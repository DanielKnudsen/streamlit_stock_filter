{
 "cells": [
  {
   "cell_type": "code",
   "execution_count": null,
   "id": "5590ef0d",
   "metadata": {},
   "outputs": [],
   "source": [
    "import requests\n",
    "from requests.auth import HTTPBasicAuth\n",
    "from datetime import datetime, timezone\n",
    "from dotenv import load_dotenv\n",
    "import os\n",
    "from supabase import create_client, Client\n"
   ]
  },
  {
   "cell_type": "code",
   "execution_count": 31,
   "id": "9fb5d801",
   "metadata": {},
   "outputs": [
    {
     "data": {
      "text/plain": [
       "True"
      ]
     },
     "execution_count": 31,
     "metadata": {},
     "output_type": "execute_result"
    }
   ],
   "source": [
    "load_dotenv()  # Load environment variables from .env file"
   ]
  },
  {
   "cell_type": "code",
   "execution_count": null,
   "id": "eb20a525",
   "metadata": {},
   "outputs": [],
   "source": [
    "# API-inställningar\n",
    "WP_URL = 'https://indicatum.se/wp-json/pmpro/v1/get_membership_level_for_user'\n",
    "WP_USERNAME = 'dan'  # WordPress-användarnamn\n",
    "WP_APP_PASSWORD = os.getenv('STREAMLIT_USER', 'Yes')  # Applikationslösenord\n",
    "USER_EMAIL = 'daniel@indicatum.se'  # E-postadress att kontrollera\n",
    "\n",
    "def check_membership_status_by_email(email):\n",
    "    try:\n",
    "        # Gör API-anrop med email-parameter\n",
    "        response = requests.get(\n",
    "            f\"{WP_URL}?email={email}\",\n",
    "            auth=HTTPBasicAuth(WP_USERNAME, WP_APP_PASSWORD),\n",
    "            timeout=10\n",
    "        )\n",
    "        \n",
    "        # Kontrollera status\n",
    "        if response.status_code == 200:\n",
    "            data = response.json()\n",
    "            print(f\"API-svar: {data}\")\n",
    "            if data:\n",
    "                if 'startdate' in data:\n",
    "                    startdate = data.get('startdate')\n",
    "                    # extract date from datetime\n",
    "                    iso_start_date = datetime.fromtimestamp(int(startdate), timezone.utc).date()\n",
    "\n",
    "                # Hantera enddate\n",
    "                iso_end_date = None\n",
    "                enddate = data.get('enddate')\n",
    "                print(f\"Raw enddate from API: {enddate}\")\n",
    "                if enddate:\n",
    "                    try:\n",
    "                        # First try to parse as Unix timestamp (integer)\n",
    "                        unix_timestamp = int(enddate)\n",
    "                        iso_end_date = datetime.fromtimestamp(unix_timestamp, timezone.utc).date()\n",
    "                        print(f\"Parsed enddate (Unix timestamp): {iso_end_date}\")\n",
    "                    except (ValueError, TypeError):\n",
    "                        # If that fails, try to parse as MySQL datetime string\n",
    "                        try:\n",
    "                            iso_end_date = datetime.strptime(enddate, '%Y-%m-%d %H:%M:%S').replace(tzinfo=timezone.utc).date()\n",
    "                            print(f\"Parsed enddate (MySQL format): {iso_end_date}\")\n",
    "                        except ValueError as e:\n",
    "                            print(f\"Fel vid parsning av enddate: {e}\")\n",
    "                            return False, None, None\n",
    "\n",
    "                # Kontrollera om medlemskapet är aktivt\n",
    "                current_time = datetime.now(timezone.utc).date()\n",
    "                print(f\"Current datetime: {current_time}\")\n",
    "                print(f\"Membership enddate: {iso_end_date}\")\n",
    "                is_valid = enddate is None or iso_end_date >= current_time\n",
    "                membership_id = data.get('id') if is_valid else None\n",
    "                membership_name = data.get('name') if is_valid else None\n",
    "\n",
    "                return is_valid, membership_id, membership_name, iso_start_date, iso_end_date\n",
    "            else:\n",
    "                return False, None, None, None, None\n",
    "        else:\n",
    "            print(f\"API-fel: {response.status_code} - {response.text}\")\n",
    "            return False, None, None, None, None\n",
    "    except Exception as e:\n",
    "        #print(f\"Fel vid API-anrop: {e}\")\n",
    "        return False, None, None, None, None"
   ]
  },
  {
   "cell_type": "code",
   "execution_count": 147,
   "id": "0a1b5492",
   "metadata": {},
   "outputs": [
    {
     "name": "stdout",
     "output_type": "stream",
     "text": [
      "Användare med e-post daniel@indicatum.sr har inget giltigt abonnemang\n"
     ]
    }
   ],
   "source": [
    "user_email = 'daniel@indicatum.sr'\n",
    "# Exempelanvändning\n",
    "is_valid, membership_id, membership_name, iso_start_date, iso_end_date = check_membership_status_by_email(user_email)\n",
    "if is_valid:\n",
    "    print(f\"Användare med e-post {user_email} har giltigt ett abonnemang: {membership_name}, med startdatum: {iso_start_date}, och slutdatum: {iso_end_date}\")\n",
    "else:\n",
    "    print(f\"Användare med e-post {user_email} har inget giltigt abonnemang\")"
   ]
  },
  {
   "cell_type": "code",
   "execution_count": null,
   "id": "2f88dad7",
   "metadata": {},
   "outputs": [],
   "source": [
    "def get_supabase_client():\n",
    "    url = st.secrets[\"SUPABASE_URL\"]\n",
    "    key = st.secrets[\"SUPABASE_KEY\"]\n",
    "    return create_client(url, key)"
   ]
  },
  {
   "cell_type": "code",
   "execution_count": null,
   "id": "e711cb43",
   "metadata": {},
   "outputs": [],
   "source": [
    "# Password reset function\n",
    "def reset_password(email: str):\n",
    "    supabase: Client = get_supabase_client()\n",
    "    try:\n",
    "        response = supabase.auth.reset_password_email(email)\n",
    "        return response\n",
    "    except Exception as e:\n",
    "        st.error(f\"Password reset failed: {str(e)}\")\n",
    "        return None"
   ]
  }
 ],
 "metadata": {
  "kernelspec": {
   "display_name": "streamlit-stock-filter",
   "language": "python",
   "name": "python3"
  },
  "language_info": {
   "codemirror_mode": {
    "name": "ipython",
    "version": 3
   },
   "file_extension": ".py",
   "mimetype": "text/x-python",
   "name": "python",
   "nbconvert_exporter": "python",
   "pygments_lexer": "ipython3",
   "version": "3.13.2"
  }
 },
 "nbformat": 4,
 "nbformat_minor": 5
}
