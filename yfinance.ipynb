{
 "cells": [
  {
   "cell_type": "code",
   "execution_count": null,
   "id": "3774d83e",
   "metadata": {},
   "outputs": [],
   "source": [
    "import pandas as pd\n",
    "import yfinance as yf\n",
    "import yaml\n",
    "import os\n",
    "import datetime\n",
    "from dotenv import load_dotenv\n",
    "from pathlib import Path\n"
   ]
  },
  {
   "cell_type": "code",
   "execution_count": 3,
   "id": "f6edaafc",
   "metadata": {},
   "outputs": [],
   "source": [
    "# Ladda .env-filen endast om den finns\n",
    "if Path('.env').exists():\n",
    "    load_dotenv()\n",
    "    \n",
    "# Bestäm miljön (default till 'local')\n",
    "ENVIRONMENT = os.getenv('ENVIRONMENT', 'local')\n",
    "FETCH_DATA = os.getenv('FETCH_DATA', 'Yes')\n",
    "\n",
    "# Välj CSV-path\n",
    "CSV_PATH = Path('data') / ('local' if ENVIRONMENT == 'local' else 'remote')\n",
    "with open('rank-config.yaml', 'r') as file:\n",
    "    config = yaml.safe_load(file)"
   ]
  },
  {
   "cell_type": "code",
   "execution_count": 59,
   "id": "854db5ca",
   "metadata": {},
   "outputs": [],
   "source": [
    "ticker = \"AXFO\""
   ]
  },
  {
   "cell_type": "code",
   "execution_count": 60,
   "id": "ebea77f5",
   "metadata": {},
   "outputs": [],
   "source": [
    "yf_ticker = f\"{ticker}.ST\"\n",
    "ticker_obj = yf.Ticker(yf_ticker)\n",
    "bs = ticker_obj.balance_sheet.transpose()\n",
    "is_ = ticker_obj.income_stmt.transpose()\n",
    "cf = ticker_obj.cash_flow.transpose()\n",
    "info = ticker_obj.info\n",
    "dividends = ticker_obj.dividends\n",
    "actions = ticker_obj.actions\n",
    "shares_outstanding = info.get('sharesOutstanding', None)\n",
    "current_price = info.get('currentPrice', None)\n",
    "market_cap = info.get('marketCap', None)\n",
    "longBusinessSummary = info.get('longBusinessSummary', 'No summary available')"
   ]
  },
  {
   "cell_type": "code",
   "execution_count": 61,
   "id": "e82abd26",
   "metadata": {},
   "outputs": [
    {
     "data": {
      "text/plain": [
       "dict_keys(['address1', 'city', 'zip', 'country', 'phone', 'website', 'industry', 'industryKey', 'industryDisp', 'sector', 'sectorKey', 'sectorDisp', 'longBusinessSummary', 'fullTimeEmployees', 'companyOfficers', 'auditRisk', 'boardRisk', 'compensationRisk', 'shareHolderRightsRisk', 'overallRisk', 'governanceEpochDate', 'executiveTeam', 'maxAge', 'priceHint', 'previousClose', 'open', 'dayLow', 'dayHigh', 'regularMarketPreviousClose', 'regularMarketOpen', 'regularMarketDayLow', 'regularMarketDayHigh', 'dividendRate', 'dividendYield', 'exDividendDate', 'payoutRatio', 'fiveYearAvgDividendYield', 'beta', 'trailingPE', 'forwardPE', 'volume', 'regularMarketVolume', 'averageVolume', 'averageVolume10days', 'averageDailyVolume10Day', 'bid', 'ask', 'bidSize', 'askSize', 'marketCap', 'fiftyTwoWeekLow', 'fiftyTwoWeekHigh', 'priceToSalesTrailing12Months', 'fiftyDayAverage', 'twoHundredDayAverage', 'trailingAnnualDividendRate', 'trailingAnnualDividendYield', 'currency', 'tradeable', 'enterpriseValue', 'profitMargins', 'floatShares', 'sharesOutstanding', 'heldPercentInsiders', 'heldPercentInstitutions', 'impliedSharesOutstanding', 'bookValue', 'priceToBook', 'lastFiscalYearEnd', 'nextFiscalYearEnd', 'mostRecentQuarter', 'earningsQuarterlyGrowth', 'netIncomeToCommon', 'trailingEps', 'forwardEps', 'lastSplitFactor', 'lastSplitDate', 'enterpriseToRevenue', 'enterpriseToEbitda', '52WeekChange', 'SandP52WeekChange', 'lastDividendValue', 'lastDividendDate', 'quoteType', 'currentPrice', 'targetHighPrice', 'targetLowPrice', 'targetMeanPrice', 'targetMedianPrice', 'recommendationKey', 'numberOfAnalystOpinions', 'totalCash', 'totalCashPerShare', 'ebitda', 'totalDebt', 'quickRatio', 'currentRatio', 'totalRevenue', 'debtToEquity', 'revenuePerShare', 'returnOnAssets', 'returnOnEquity', 'grossProfits', 'freeCashflow', 'operatingCashflow', 'earningsGrowth', 'revenueGrowth', 'grossMargins', 'ebitdaMargins', 'operatingMargins', 'financialCurrency', 'symbol', 'language', 'region', 'typeDisp', 'quoteSourceName', 'triggerable', 'customPriceAlertConfidence', 'longName', 'shortName', 'exchange', 'messageBoardId', 'exchangeTimezoneName', 'exchangeTimezoneShortName', 'gmtOffSetMilliseconds', 'market', 'esgPopulated', 'corporateActions', 'regularMarketTime', 'marketState', 'regularMarketChangePercent', 'regularMarketPrice', 'fullExchangeName', 'averageDailyVolume3Month', 'fiftyTwoWeekLowChange', 'fiftyTwoWeekLowChangePercent', 'fiftyTwoWeekRange', 'fiftyTwoWeekHighChange', 'fiftyTwoWeekHighChangePercent', 'fiftyTwoWeekChangePercent', 'earningsTimestamp', 'earningsTimestampStart', 'earningsTimestampEnd', 'earningsCallTimestampStart', 'earningsCallTimestampEnd', 'isEarningsDateEstimate', 'epsTrailingTwelveMonths', 'epsForward', 'epsCurrentYear', 'priceEpsCurrentYear', 'fiftyDayAverageChange', 'fiftyDayAverageChangePercent', 'twoHundredDayAverageChange', 'twoHundredDayAverageChangePercent', 'sourceInterval', 'exchangeDataDelayedBy', 'cryptoTradeable', 'hasPrePostMarketData', 'firstTradeDateMilliseconds', 'regularMarketChange', 'regularMarketDayRange', 'trailingPegRatio'])"
      ]
     },
     "execution_count": 61,
     "metadata": {},
     "output_type": "execute_result"
    }
   ],
   "source": [
    "info.keys()  # Listar alla tillgängliga nycklar i info"
   ]
  },
  {
   "cell_type": "code",
   "execution_count": 62,
   "id": "41fc6243",
   "metadata": {},
   "outputs": [
    {
     "data": {
      "text/plain": [
       "8.5"
      ]
     },
     "execution_count": 62,
     "metadata": {},
     "output_type": "execute_result"
    }
   ],
   "source": [
    "info.get('dividendRate', None)"
   ]
  },
  {
   "cell_type": "code",
   "execution_count": 63,
   "id": "f3053acb",
   "metadata": {},
   "outputs": [],
   "source": [
    "timestamp = info.get('lastDividendDate', None)"
   ]
  },
  {
   "cell_type": "code",
   "execution_count": 64,
   "id": "95e6a507",
   "metadata": {},
   "outputs": [
    {
     "name": "stdout",
     "output_type": "stream",
     "text": [
      "2025-09-18\n"
     ]
    }
   ],
   "source": [
    "if timestamp is not None:\n",
    "    date = datetime.datetime.fromtimestamp(timestamp).strftime('%Y-%m-%d')\n",
    "    print(date)  # or use date.strftime('%Y-%m-%d') for just the date"
   ]
  },
  {
   "cell_type": "code",
   "execution_count": 77,
   "id": "af2269fc",
   "metadata": {},
   "outputs": [],
   "source": [
    "test={ticker: {\n",
    "    \"latest_dividend_year\": datetime.datetime.fromtimestamp(info.get('lastDividendDate', None)).strftime('%Y'),\n",
    "    \"dividend_rate_full_year\": info.get('dividendRate', None),\n",
    "}}"
   ]
  },
  {
   "cell_type": "code",
   "execution_count": 78,
   "id": "c746a951",
   "metadata": {},
   "outputs": [
    {
     "data": {
      "text/html": [
       "<div>\n",
       "<style scoped>\n",
       "    .dataframe tbody tr th:only-of-type {\n",
       "        vertical-align: middle;\n",
       "    }\n",
       "\n",
       "    .dataframe tbody tr th {\n",
       "        vertical-align: top;\n",
       "    }\n",
       "\n",
       "    .dataframe thead th {\n",
       "        text-align: right;\n",
       "    }\n",
       "</style>\n",
       "<table border=\"1\" class=\"dataframe\">\n",
       "  <thead>\n",
       "    <tr style=\"text-align: right;\">\n",
       "      <th></th>\n",
       "      <th>latest_dividend_year</th>\n",
       "      <th>dividend_rate_full_year</th>\n",
       "    </tr>\n",
       "  </thead>\n",
       "  <tbody>\n",
       "    <tr>\n",
       "      <th>AXFO</th>\n",
       "      <td>2025</td>\n",
       "      <td>8.5</td>\n",
       "    </tr>\n",
       "  </tbody>\n",
       "</table>\n",
       "</div>"
      ],
      "text/plain": [
       "     latest_dividend_year  dividend_rate_full_year\n",
       "AXFO                 2025                      8.5"
      ]
     },
     "execution_count": 78,
     "metadata": {},
     "output_type": "execute_result"
    }
   ],
   "source": [
    "pd.DataFrame().from_dict(test,orient='index')"
   ]
  },
  {
   "cell_type": "code",
   "execution_count": null,
   "id": "c5e6140e",
   "metadata": {},
   "outputs": [],
   "source": []
  }
 ],
 "metadata": {
  "kernelspec": {
   "display_name": "streamlit_stock_filter",
   "language": "python",
   "name": "python3"
  },
  "language_info": {
   "codemirror_mode": {
    "name": "ipython",
    "version": 3
   },
   "file_extension": ".py",
   "mimetype": "text/x-python",
   "name": "python",
   "nbconvert_exporter": "python",
   "pygments_lexer": "ipython3",
   "version": "3.13.2"
  }
 },
 "nbformat": 4,
 "nbformat_minor": 5
}
