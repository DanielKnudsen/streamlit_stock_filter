{
 "cells": [
  {
   "cell_type": "code",
   "execution_count": 25,
   "id": "5beb004b",
   "metadata": {},
   "outputs": [],
   "source": [
    "import pandas as pd\n",
    "\n",
    "def list_stock_evaluation_for_ticker(ticker):\n",
    "    df = pd.read_csv('csv-data/stock_evaluation_results.csv', index_col=0)\n",
    "    results = df.loc[ticker] if ticker in df.index else None\n",
    "    return results\n",
    "\n",
    "# Example usage:\n",
    "# ticker_results = list_stock_evaluation_for_ticker('AAPL')\n",
    "# print(ticker_results)"
   ]
  },
  {
   "cell_type": "code",
   "execution_count": 26,
   "id": "43751136",
   "metadata": {},
   "outputs": [],
   "source": [
    "df = pd.read_csv('csv-data/stock_evaluation_results.csv', index_col=0)"
   ]
  },
  {
   "cell_type": "code",
   "execution_count": 27,
   "id": "f99cf3b3",
   "metadata": {},
   "outputs": [
    {
     "data": {
      "text/html": [
       "<div>\n",
       "<style scoped>\n",
       "    .dataframe tbody tr th:only-of-type {\n",
       "        vertical-align: middle;\n",
       "    }\n",
       "\n",
       "    .dataframe tbody tr th {\n",
       "        vertical-align: top;\n",
       "    }\n",
       "\n",
       "    .dataframe thead th {\n",
       "        text-align: right;\n",
       "    }\n",
       "</style>\n",
       "<table border=\"1\" class=\"dataframe\">\n",
       "  <thead>\n",
       "    <tr style=\"text-align: right;\">\n",
       "      <th></th>\n",
       "      <th>Total_Revenue</th>\n",
       "    </tr>\n",
       "  </thead>\n",
       "  <tbody>\n",
       "    <tr>\n",
       "      <th>AAK</th>\n",
       "      <td>4.505200e+10</td>\n",
       "    </tr>\n",
       "    <tr>\n",
       "      <th>AZN</th>\n",
       "      <td>5.407300e+10</td>\n",
       "    </tr>\n",
       "  </tbody>\n",
       "</table>\n",
       "</div>"
      ],
      "text/plain": [
       "     Total_Revenue\n",
       "AAK   4.505200e+10\n",
       "AZN   5.407300e+10"
      ]
     },
     "execution_count": 27,
     "metadata": {},
     "output_type": "execute_result"
    }
   ],
   "source": [
    "df.loc[['AAK','AZN'], [col for col in df.columns if 'Total_Revenue' in col]].head(10)"
   ]
  },
  {
   "cell_type": "code",
   "execution_count": 28,
   "id": "494360b3",
   "metadata": {},
   "outputs": [
    {
     "name": "stdout",
     "output_type": "stream",
     "text": [
      "Net_Income            3536000000.0\n",
      "EBIT                  4895000000.0\n",
      "Pretax_Income         4660000000.0\n",
      "Tax_Provision         1118000000.0\n",
      "Interest_Expense       235000000.0\n",
      "                          ...     \n",
      "CAGR                      0.083287\n",
      "Latest_clusterAvg        63.275479\n",
      "Trend_clusterAvg         87.989624\n",
      "Latest_clusterRank       77.272727\n",
      "Trend_clusterRank        99.870298\n",
      "Name: AAK, Length: 193, dtype: object\n"
     ]
    }
   ],
   "source": [
    "ticker_results = list_stock_evaluation_for_ticker('AAK')\n",
    "print(ticker_results)"
   ]
  },
  {
   "cell_type": "code",
   "execution_count": null,
   "id": "3d4586ab",
   "metadata": {},
   "outputs": [],
   "source": []
  }
 ],
 "metadata": {
  "kernelspec": {
   "display_name": "streamlit_stock_filter",
   "language": "python",
   "name": "python3"
  },
  "language_info": {
   "codemirror_mode": {
    "name": "ipython",
    "version": 3
   },
   "file_extension": ".py",
   "mimetype": "text/x-python",
   "name": "python",
   "nbconvert_exporter": "python",
   "pygments_lexer": "ipython3",
   "version": "3.13.2"
  }
 },
 "nbformat": 4,
 "nbformat_minor": 5
}
