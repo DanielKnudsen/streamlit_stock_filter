{
 "cells": [
  {
   "cell_type": "code",
   "execution_count": 5,
   "id": "5beb004b",
   "metadata": {},
   "outputs": [],
   "source": [
    "import pandas as pd\n",
    "\n",
    "def list_stock_evaluation_for_ticker(ticker):\n",
    "    df = pd.read_csv('csv-data/stock_evaluation_results.csv', index_col=0)\n",
    "    results = df.loc[ticker] if ticker in df.index else None\n",
    "    return results\n",
    "\n",
    "# Example usage:\n",
    "# ticker_results = list_stock_evaluation_for_ticker('AAPL')\n",
    "# print(ticker_results)"
   ]
  },
  {
   "cell_type": "code",
   "execution_count": 26,
   "id": "43751136",
   "metadata": {},
   "outputs": [],
   "source": [
    "df = pd.read_csv('csv-data/stock_evaluation_results.csv', index_col=0)"
   ]
  },
  {
   "cell_type": "code",
   "execution_count": 27,
   "id": "f99cf3b3",
   "metadata": {},
   "outputs": [
    {
     "data": {
      "text/html": [
       "<div>\n",
       "<style scoped>\n",
       "    .dataframe tbody tr th:only-of-type {\n",
       "        vertical-align: middle;\n",
       "    }\n",
       "\n",
       "    .dataframe tbody tr th {\n",
       "        vertical-align: top;\n",
       "    }\n",
       "\n",
       "    .dataframe thead th {\n",
       "        text-align: right;\n",
       "    }\n",
       "</style>\n",
       "<table border=\"1\" class=\"dataframe\">\n",
       "  <thead>\n",
       "    <tr style=\"text-align: right;\">\n",
       "      <th></th>\n",
       "      <th>Total_Revenue</th>\n",
       "    </tr>\n",
       "  </thead>\n",
       "  <tbody>\n",
       "    <tr>\n",
       "      <th>AAK</th>\n",
       "      <td>4.505200e+10</td>\n",
       "    </tr>\n",
       "    <tr>\n",
       "      <th>AZN</th>\n",
       "      <td>5.407300e+10</td>\n",
       "    </tr>\n",
       "  </tbody>\n",
       "</table>\n",
       "</div>"
      ],
      "text/plain": [
       "     Total_Revenue\n",
       "AAK   4.505200e+10\n",
       "AZN   5.407300e+10"
      ]
     },
     "execution_count": 27,
     "metadata": {},
     "output_type": "execute_result"
    }
   ],
   "source": [
    "df.loc[['AAK','AZN'], [col for col in df.columns if 'Total_Revenue' in col]].head(10)"
   ]
  },
  {
   "cell_type": "code",
   "execution_count": 28,
   "id": "494360b3",
   "metadata": {},
   "outputs": [
    {
     "name": "stdout",
     "output_type": "stream",
     "text": [
      "Net_Income            3536000000.0\n",
      "EBIT                  4895000000.0\n",
      "Pretax_Income         4660000000.0\n",
      "Tax_Provision         1118000000.0\n",
      "Interest_Expense       235000000.0\n",
      "                          ...     \n",
      "CAGR                      0.083287\n",
      "Latest_clusterAvg        63.275479\n",
      "Trend_clusterAvg         87.989624\n",
      "Latest_clusterRank       77.272727\n",
      "Trend_clusterRank        99.870298\n",
      "Name: AAK, Length: 193, dtype: object\n"
     ]
    }
   ],
   "source": [
    "ticker_results = list_stock_evaluation_for_ticker('AAK')\n",
    "print(ticker_results)"
   ]
  },
  {
   "cell_type": "code",
   "execution_count": 6,
   "id": "3d4586ab",
   "metadata": {},
   "outputs": [],
   "source": [
    "def raw_financial_data():\n",
    "    df = pd.read_csv('csv-data/raw_financial_data.csv')\n",
    "    \n",
    "    return df"
   ]
  },
  {
   "cell_type": "code",
   "execution_count": 7,
   "id": "633e6fb8",
   "metadata": {},
   "outputs": [],
   "source": [
    "df=raw_financial_data()"
   ]
  },
  {
   "cell_type": "code",
   "execution_count": 12,
   "id": "7715e251",
   "metadata": {},
   "outputs": [
    {
     "data": {
      "text/html": [
       "<div>\n",
       "<style scoped>\n",
       "    .dataframe tbody tr th:only-of-type {\n",
       "        vertical-align: middle;\n",
       "    }\n",
       "\n",
       "    .dataframe tbody tr th {\n",
       "        vertical-align: top;\n",
       "    }\n",
       "\n",
       "    .dataframe thead th {\n",
       "        text-align: right;\n",
       "    }\n",
       "</style>\n",
       "<table border=\"1\" class=\"dataframe\">\n",
       "  <thead>\n",
       "    <tr style=\"text-align: right;\">\n",
       "      <th></th>\n",
       "      <th>Metric</th>\n",
       "      <th>Date</th>\n",
       "      <th>Value</th>\n",
       "      <th>Ticker</th>\n",
       "      <th>Segment</th>\n",
       "    </tr>\n",
       "  </thead>\n",
       "  <tbody>\n",
       "    <tr>\n",
       "      <th>4262</th>\n",
       "      <td>Basic EPS</td>\n",
       "      <td>2024-12-31</td>\n",
       "      <td>13.62</td>\n",
       "      <td>AAK</td>\n",
       "      <td>income_statement</td>\n",
       "    </tr>\n",
       "    <tr>\n",
       "      <th>4306</th>\n",
       "      <td>Basic EPS</td>\n",
       "      <td>2023-12-31</td>\n",
       "      <td>11.35</td>\n",
       "      <td>AAK</td>\n",
       "      <td>income_statement</td>\n",
       "    </tr>\n",
       "    <tr>\n",
       "      <th>4350</th>\n",
       "      <td>Basic EPS</td>\n",
       "      <td>2022-12-31</td>\n",
       "      <td>6.84</td>\n",
       "      <td>AAK</td>\n",
       "      <td>income_statement</td>\n",
       "    </tr>\n",
       "    <tr>\n",
       "      <th>4394</th>\n",
       "      <td>Basic EPS</td>\n",
       "      <td>2021-12-31</td>\n",
       "      <td>5.59</td>\n",
       "      <td>AAK</td>\n",
       "      <td>income_statement</td>\n",
       "    </tr>\n",
       "  </tbody>\n",
       "</table>\n",
       "</div>"
      ],
      "text/plain": [
       "         Metric        Date  Value Ticker           Segment\n",
       "4262  Basic EPS  2024-12-31  13.62    AAK  income_statement\n",
       "4306  Basic EPS  2023-12-31  11.35    AAK  income_statement\n",
       "4350  Basic EPS  2022-12-31   6.84    AAK  income_statement\n",
       "4394  Basic EPS  2021-12-31   5.59    AAK  income_statement"
      ]
     },
     "execution_count": 12,
     "metadata": {},
     "output_type": "execute_result"
    }
   ],
   "source": [
    "df.query('Ticker == \"AAK\" & Metric == \"Basic EPS\"').head(10)"
   ]
  },
  {
   "cell_type": "markdown",
   "id": "a8f96894",
   "metadata": {},
   "source": [
    "df"
   ]
  },
  {
   "cell_type": "markdown",
   "id": "27d25cc2",
   "metadata": {},
   "source": []
  }
 ],
 "metadata": {
  "kernelspec": {
   "display_name": "streamlit_stock_filter",
   "language": "python",
   "name": "python3"
  },
  "language_info": {
   "codemirror_mode": {
    "name": "ipython",
    "version": 3
   },
   "file_extension": ".py",
   "mimetype": "text/x-python",
   "name": "python",
   "nbconvert_exporter": "python",
   "pygments_lexer": "ipython3",
   "version": "3.13.2"
  }
 },
 "nbformat": 4,
 "nbformat_minor": 5
}
