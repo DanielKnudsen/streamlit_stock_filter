{
 "cells": [
  {
   "cell_type": "code",
   "execution_count": 93,
   "id": "62ed73e5",
   "metadata": {},
   "outputs": [],
   "source": [
    "\n",
    "from config_mappings import ConfigMappings\n",
    "import pandas as pd\n",
    "from rank import load_config\n",
    "\n"
   ]
  },
  {
   "cell_type": "code",
   "execution_count": 94,
   "id": "9515f034",
   "metadata": {},
   "outputs": [
    {
     "name": "stdout",
     "output_type": "stream",
     "text": [
      "✅ Module reloaded successfully\n"
     ]
    }
   ],
   "source": [
    "# Reload the module to get the latest changes\n",
    "import importlib\n",
    "import config_mappings\n",
    "importlib.reload(config_mappings)\n",
    "\n",
    "# Recreate the ConfigMappings instance with reloaded module\n",
    "from config_mappings import load_mappings_from_config\n",
    "m = load_mappings_from_config()\n",
    "print(\"✅ Module reloaded successfully\")"
   ]
  },
  {
   "cell_type": "code",
   "execution_count": 95,
   "id": "81d9691b",
   "metadata": {},
   "outputs": [],
   "source": [
    "# Load configuration from YAML file\n",
    "config = load_config(\"rank-config.yaml\")\n",
    "m = ConfigMappings(config)"
   ]
  },
  {
   "cell_type": "code",
   "execution_count": 96,
   "id": "b07eecec",
   "metadata": {},
   "outputs": [],
   "source": [
    "df_results = pd.read_csv(\"data/local/stock_evaluation_results.csv\", index_col=0)\n",
    "selected_ticker ='AAK'"
   ]
  },
  {
   "cell_type": "code",
   "execution_count": 97,
   "id": "92dbcfbd",
   "metadata": {},
   "outputs": [
    {
     "data": {
      "text/plain": [
       "Name                                                              AAK\n",
       "Sektor                                                    Dagligvaror\n",
       "Lista                                                        LargeCap\n",
       "ROE_year_2021                                                0.121955\n",
       "ROE_year_2022                                                0.117717\n",
       "                                                             ...     \n",
       "ttm_current_sector_diffclusterRank                               28.6\n",
       "ttm_momentum_sector_diffclusterRank_vs_pct_ch_1_m_diff           25.9\n",
       "ttm_current_sector_diffclusterRank_vs_pct_ch_1_m_diff            25.9\n",
       "ttm_momentum_sector_diffclusterRank_vs_pct_ch_3_m_diff           28.6\n",
       "ttm_current_sector_diffclusterRank_vs_pct_ch_3_m_diff            28.6\n",
       "Name: AAK, Length: 247, dtype: object"
      ]
     },
     "execution_count": 97,
     "metadata": {},
     "output_type": "execute_result"
    }
   ],
   "source": [
    "df_results.loc[selected_ticker]"
   ]
  },
  {
   "cell_type": "code",
   "execution_count": 98,
   "id": "cb80608e",
   "metadata": {},
   "outputs": [
    {
     "name": "stdout",
     "output_type": "stream",
     "text": [
      "category_bases:\n",
      "['Kvalitet', 'Hälsa', 'Lönsamhet', 'Värdering', 'Kassaflöde']\n",
      "\n",
      "category_ratios:\n",
      "{'Kvalitet_ttm_current_ratioRank': {'ROE_ttm_current_ratioRank': 1, 'ROIC_ttm_current_ratioRank': 1}, 'Kvalitet_long_trend_ratioRank': {'ROE_long_trend_ratioRank': 1, 'ROIC_long_trend_ratioRank': 1}, 'Kvalitet_ttm_momentum_ratioRank': {'ROE_ttm_momentum_ratioRank': 1, 'ROIC_ttm_momentum_ratioRank': 1}, 'Hälsa_ttm_current_ratioRank': {'Soliditet_ttm_current_ratioRank': 1, 'Skuldsättningsgrad_ttm_current_ratioRank': 1}, 'Hälsa_long_trend_ratioRank': {'Soliditet_long_trend_ratioRank': 1, 'Skuldsättningsgrad_long_trend_ratioRank': 1}, 'Hälsa_ttm_momentum_ratioRank': {'Soliditet_ttm_momentum_ratioRank': 1, 'Skuldsättningsgrad_ttm_momentum_ratioRank': 1}, 'Lönsamhet_ttm_current_ratioRank': {'Bruttomarginal_ttm_current_ratioRank': 1, 'Rörelsemarginal_ttm_current_ratioRank': 1, 'Vinstmarginal_ttm_current_ratioRank': 1}, 'Lönsamhet_long_trend_ratioRank': {'Bruttomarginal_long_trend_ratioRank': 1, 'Rörelsemarginal_long_trend_ratioRank': 1, 'Vinstmarginal_long_trend_ratioRank': 1}, 'Lönsamhet_ttm_momentum_ratioRank': {'Bruttomarginal_ttm_momentum_ratioRank': 1, 'Rörelsemarginal_ttm_momentum_ratioRank': 1, 'Vinstmarginal_ttm_momentum_ratioRank': 1}, 'Värdering_ttm_current_ratioRank': {'PE_tal_ttm_current_ratioRank': 1, 'PB_tal_ttm_current_ratioRank': 1, 'EV_EBITDA_ttm_current_ratioRank': 1}, 'Värdering_long_trend_ratioRank': {'PE_tal_long_trend_ratioRank': 1, 'PB_tal_long_trend_ratioRank': 1, 'EV_EBITDA_long_trend_ratioRank': 1}, 'Värdering_ttm_momentum_ratioRank': {'PE_tal_ttm_momentum_ratioRank': 1, 'PB_tal_ttm_momentum_ratioRank': 1, 'EV_EBITDA_ttm_momentum_ratioRank': 1}, 'Kassaflöde_ttm_current_ratioRank': {'Rörelseflödesmarginal_ttm_current_ratioRank': 1, 'Kassaflöde_till_Skuld_ttm_current_ratioRank': 1}, 'Kassaflöde_long_trend_ratioRank': {'Rörelseflödesmarginal_long_trend_ratioRank': 1, 'Kassaflöde_till_Skuld_long_trend_ratioRank': 1}, 'Kassaflöde_ttm_momentum_ratioRank': {'Rörelseflödesmarginal_ttm_momentum_ratioRank': 1, 'Kassaflöde_till_Skuld_ttm_momentum_ratioRank': 1}}\n",
      "\n",
      "category_to_ratios:\n",
      "{'Kvalitet': ['ROE', 'ROIC'], 'Hälsa': ['Soliditet', 'Skuldsättningsgrad'], 'Lönsamhet': ['Bruttomarginal', 'Rörelsemarginal', 'Vinstmarginal'], 'Värdering': ['PE_tal', 'PB_tal', 'EV_EBITDA'], 'Kassaflöde': ['Rörelseflödesmarginal', 'Kassaflöde_till_Skuld']}\n",
      "\n",
      "category_types:\n",
      "['catRank', 'ratioRank']\n",
      "\n",
      "cluster_columns:\n",
      "['long_trend_clusterRank', 'ttm_momentum_clusterRank', 'ttm_current_clusterRank']\n",
      "\n",
      "cluster_config:\n",
      "{'long_trend': {'data_source': 'annual', 'metric_type': 'trend', 'description': 'Trend över 4 år', 'col_name': 'Trend 4 år'}, 'ttm_momentum': {'data_source': 'quarterly', 'metric_type': 'trend', 'description': 'TTM-momentum, senaste 2 kvartalen', 'col_name': 'TTM trend 2Q'}, 'ttm_current': {'data_source': 'quarterly', 'metric_type': 'latest', 'description': 'Senaste TTM-värden', 'col_name': 'TTM senaste Q'}}\n",
      "\n",
      "cluster_mappings:\n",
      "{'long_trend': 'long_trend_clusterRank', 'ttm_momentum': 'ttm_momentum_clusterRank', 'ttm_current': 'ttm_current_clusterRank'}\n",
      "\n",
      "config:\n",
      "{'input_ticker_file': 'tickers_list_test.csv', 'results_file': 'stock_evaluation_results.csv', 'price_data_file': 'price_data.csv', 'price_data_file_raw': 'price_data_raw.csv', 'data_fetch_years': 4, 'data_fetch_quarterly': 5, 'price_data_years': 4, 'rank_decimals': 1, 'SMA_short': 10, 'SMA_1_month': 20, 'SMA_3_month': 60, 'SMA_medium': 50, 'SMA_long': 200, 'cagr_dimension': ['Total Revenue', 'Basic EPS'], 'ratio_definitions': {'ROE': {'formula': 'Net_Income / Stockholders_Equity', 'source_income': ['Net Income'], 'source_bs': ['Stockholders Equity'], 'higher_is_better': True}, 'ROIC': {'formula': '(EBIT * (1 - (Tax_Provision / Pretax_Income))) / (Total_Debt + Stockholders_Equity)', 'source_income': ['EBIT', 'Tax Provision', 'Pretax Income'], 'source_bs': ['Total Debt', 'Stockholders Equity'], 'higher_is_better': True}, 'Soliditet': {'formula': 'Stockholders_Equity / Total_Assets', 'source_bs': ['Stockholders Equity', 'Total Assets'], 'higher_is_better': True}, 'Skuldsättningsgrad': {'formula': 'Total_Debt / Stockholders_Equity', 'source_bs': ['Total Debt', 'Stockholders Equity'], 'higher_is_better': False}, 'Bruttomarginal': {'formula': 'Gross_Profit / Total_Revenue', 'source_income': ['Gross Profit', 'Total Revenue'], 'higher_is_better': True}, 'Rörelsemarginal': {'formula': 'Operating_Income / Total_Revenue', 'source_income': ['Operating Income', 'Total Revenue'], 'higher_is_better': True}, 'Vinstmarginal': {'formula': 'Net_Income / Total_Revenue', 'source_income': ['Net Income', 'Total Revenue'], 'higher_is_better': True}, 'PE_tal': {'formula': 'currentPrice / Basic_EPS', 'source_stock': ['currentPrice'], 'source_income': ['Basic EPS'], 'higher_is_better': False}, 'PB_tal': {'formula': 'currentPrice / (Stockholders_Equity / sharesOutstanding)', 'source_stock': ['currentPrice', 'sharesOutstanding'], 'source_bs': ['Stockholders Equity'], 'higher_is_better': False}, 'EV_EBITDA': {'formula': '(currentPrice * sharesOutstanding + Total_Debt - Cash_And_Cash_Equivalents) / EBITDA', 'source_stock': ['currentPrice', 'sharesOutstanding'], 'source_bs': ['Total Debt', 'Cash And Cash Equivalents'], 'source_income': ['EBITDA'], 'higher_is_better': False}, 'Rörelseflödesmarginal': {'formula': 'Operating_Cash_Flow / Total_Revenue', 'source_cf': ['Operating Cash Flow'], 'source_income': ['Total Revenue'], 'higher_is_better': True}, 'Kassaflöde_till_Skuld': {'formula': 'Operating_Cash_Flow / Total_Debt', 'source_cf': ['Operating Cash Flow'], 'source_bs': ['Total Debt'], 'higher_is_better': True}}, 'agr_dimensions': ['Total Revenue', 'Basic EPS'], 'kategorier': {'Kvalitet': ['ROE', 'ROIC'], 'Hälsa': ['Soliditet', 'Skuldsättningsgrad'], 'Lönsamhet': ['Bruttomarginal', 'Rörelsemarginal', 'Vinstmarginal'], 'Värdering': ['PE_tal', 'PB_tal', 'EV_EBITDA'], 'Kassaflöde': ['Rörelseflödesmarginal', 'Kassaflöde_till_Skuld']}, 'cluster': {'long_trend': {'data_source': 'annual', 'metric_type': 'trend', 'description': 'Trend över 4 år', 'col_name': 'Trend 4 år'}, 'ttm_momentum': {'data_source': 'quarterly', 'metric_type': 'trend', 'description': 'TTM-momentum, senaste 2 kvartalen', 'col_name': 'TTM trend 2Q'}, 'ttm_current': {'data_source': 'quarterly', 'metric_type': 'latest', 'description': 'Senaste TTM-värden', 'col_name': 'TTM senaste Q'}}, 'category_ratios': {'Kvalitet_ttm_current_ratioRank': {'ROE_ttm_current_ratioRank': 1, 'ROIC_ttm_current_ratioRank': 1}, 'Kvalitet_long_trend_ratioRank': {'ROE_long_trend_ratioRank': 1, 'ROIC_long_trend_ratioRank': 1}, 'Kvalitet_ttm_momentum_ratioRank': {'ROE_ttm_momentum_ratioRank': 1, 'ROIC_ttm_momentum_ratioRank': 1}, 'Hälsa_ttm_current_ratioRank': {'Soliditet_ttm_current_ratioRank': 1, 'Skuldsättningsgrad_ttm_current_ratioRank': 1}, 'Hälsa_long_trend_ratioRank': {'Soliditet_long_trend_ratioRank': 1, 'Skuldsättningsgrad_long_trend_ratioRank': 1}, 'Hälsa_ttm_momentum_ratioRank': {'Soliditet_ttm_momentum_ratioRank': 1, 'Skuldsättningsgrad_ttm_momentum_ratioRank': 1}, 'Lönsamhet_ttm_current_ratioRank': {'Bruttomarginal_ttm_current_ratioRank': 1, 'Rörelsemarginal_ttm_current_ratioRank': 1, 'Vinstmarginal_ttm_current_ratioRank': 1}, 'Lönsamhet_long_trend_ratioRank': {'Bruttomarginal_long_trend_ratioRank': 1, 'Rörelsemarginal_long_trend_ratioRank': 1, 'Vinstmarginal_long_trend_ratioRank': 1}, 'Lönsamhet_ttm_momentum_ratioRank': {'Bruttomarginal_ttm_momentum_ratioRank': 1, 'Rörelsemarginal_ttm_momentum_ratioRank': 1, 'Vinstmarginal_ttm_momentum_ratioRank': 1}, 'Värdering_ttm_current_ratioRank': {'PE_tal_ttm_current_ratioRank': 1, 'PB_tal_ttm_current_ratioRank': 1, 'EV_EBITDA_ttm_current_ratioRank': 1}, 'Värdering_long_trend_ratioRank': {'PE_tal_long_trend_ratioRank': 1, 'PB_tal_long_trend_ratioRank': 1, 'EV_EBITDA_long_trend_ratioRank': 1}, 'Värdering_ttm_momentum_ratioRank': {'PE_tal_ttm_momentum_ratioRank': 1, 'PB_tal_ttm_momentum_ratioRank': 1, 'EV_EBITDA_ttm_momentum_ratioRank': 1}, 'Kassaflöde_ttm_current_ratioRank': {'Rörelseflödesmarginal_ttm_current_ratioRank': 1, 'Kassaflöde_till_Skuld_ttm_current_ratioRank': 1}, 'Kassaflöde_long_trend_ratioRank': {'Rörelseflödesmarginal_long_trend_ratioRank': 1, 'Kassaflöde_till_Skuld_long_trend_ratioRank': 1}, 'Kassaflöde_ttm_momentum_ratioRank': {'Rörelseflödesmarginal_ttm_momentum_ratioRank': 1, 'Kassaflöde_till_Skuld_ttm_momentum_ratioRank': 1}}, 'ratio_help_texts': {'ROE_ttm_current': 'Avkastning på eget kapital (ROE) visar hur effektivt bolaget genererar vinst på aktieägarnas kapital under det senaste året. Ett högt ROE för det senaste året indikerar att företaget har varit framgångsrikt med att skapa vinst från aktieägarnas satsade kapital just nu. Jämför gärna med branschkollegor för att få en aktuell bild av lönsamheten.', 'ROIC_ttm_current': 'Avkastning på investerat kapital (ROIC) mäter hur väl bolaget har använt både eget och lånat kapital för att skapa vinst under det senaste året. Ett högt ROIC för året visar att företaget har varit effektivt på att generera avkastning på det totala kapitalet i den senaste perioden.', 'Soliditet_ttm_current': 'Soliditet visar hur stor andel av tillgångarna som är finansierade med eget kapital just nu. En hög soliditet för det senaste året innebär att företaget har en stark finansiell ställning och är mindre beroende av lån, vilket minskar den finansiella risken på kort sikt.', 'Skuldsättningsgrad_ttm_current': 'Skuldsättningsgrad visar förhållandet mellan företagets skulder och eget kapital under det senaste året. En låg skuldsättningsgrad för året innebär att företaget har relativt lite skulder jämfört med sitt egna kapital, vilket minskar risken för betalningsproblem just nu.', 'Räntetäckningsgrad_ttm_current': 'Räntetäckningsgrad visar företagets förmåga att täcka sina räntekostnader med rörelseresultatet (EBIT) under det senaste året. En hög räntetäckningsgrad för året innebär att företaget har god marginal för att betala sina räntekostnader just nu.', 'Bruttomarginal_ttm_current': 'Bruttomarginal visar hur stor andel av omsättningen som återstår efter att produktionskostnaderna har dragits av under det senaste året. En hög bruttomarginal för året innebär att företaget har god kontroll över sina direkta kostnader och kan generera mer vinst från varje såld enhet just nu.', 'Rörelsemarginal_ttm_current': 'Rörelsemarginal visar hur stor andel av omsättningen som återstår efter att alla rörelsekostnader har dragits av under det senaste året. En hög rörelsemarginal för året indikerar att företaget har varit effektivt på att kontrollera sina kostnader och generera vinst från den löpande verksamheten just nu.', 'Vinstmarginal_ttm_current': 'Vinstmarginal visar hur stor andel av omsättningen som blir kvar som vinst efter alla kostnader, inklusive skatt och räntor, under det senaste året. En hög vinstmarginal för året innebär att företaget har varit bra på att omvandla försäljning till vinst just nu.', 'PE_tal_ttm_current': 'P/E-tal (pris/vinst-tal) visar hur aktien värderas i förhållande till företagets vinst per aktie för det senaste året. Ett lågt P/E-tal kan tyda på att aktien är lågt värderad just nu, men det kan också bero på tillfälligt låg vinst. Jämför med liknande företag för att få en aktuell värdering.', 'PB_tal_ttm_current': 'P/B-tal (pris/eget kapital-tal) visar hur aktien värderas i förhållande till företagets egna kapital per aktie för det senaste året. Ett lågt P/B-tal kan indikera att aktien är undervärderad just nu, men det kan också bero på problem i verksamheten. Jämför alltid med branschkollegor för att få en rättvisande bild.', 'EV_EBITDA_ttm_current': 'EV/EBITDA (företagsvärde/rörelseresultat före avskrivningar) visar bolagets värdering i förhållande till dess rörelseresultat före avskrivningar för det senaste året. Ett lågt EV/EBITDA-tal kan tyda på att bolaget är lågt värderat just nu i förhållande till sin intjäningsförmåga.', 'Rörelseflödesmarginal_ttm_current': 'Rörelseflödesmarginal visar hur stor andel av omsättningen som omvandlas till kassaflöde från den löpande verksamheten under det senaste året. En hög rörelseflödesmarginal för året innebär att företaget har varit bra på att generera kassaflöde från sin försäljning just nu.', 'Fritt_Kassaflode_per_Aktie_ttm_current': 'Fritt kassaflöde per aktie visar hur mycket kassaflöde som genereras per aktie efter att investeringar har dragits av under det senaste året. Detta nyckeltal är viktigt för att bedöma företagets förmåga att skapa värde för aktieägarna just nu.', 'Kassaflöde_till_Skuld_ttm_current': 'Kassaflöde till skuld visar företagets förmåga att betala av sina skulder med det kassaflöde som genereras från verksamheten under det senaste året. En hög kvot för året innebär att företaget snabbt kan minska sina skulder just nu.', 'ROE_long_trend': 'Avkastning på eget kapital (ROE) visar om bolaget har förbättrat sin förmåga att skapa vinst på aktieägarnas kapital under de senaste fyra åren. Ett högre trendvärde indikerar att ROE har ökat och att bolagets lönsamhet har stärkts över tid.', 'ROIC_long_trend': 'Avkastning på investerat kapital (ROIC) visar om bolaget har blivit bättre på att använda sitt kapital för att skapa vinst under de senaste fyra åren. Ett högre trendvärde innebär att ROIC har förbättrats och att bolaget har blivit mer effektivt över tid.', 'Soliditet_long_trend': 'Soliditetstrenden visar om bolaget har ökat andelen eget kapital i förhållande till tillgångarna under de senaste fyra åren. Ett högre trendvärde innebär att bolaget har stärkt sin finansiella ställning och minskat sin risk över tid.', 'Skuldsättningsgrad_long_trend': 'Skuldsättningsgradstrenden visar om bolaget har minskat sina skulder i förhållande till eget kapital under de senaste fyra åren. Ett lägre trendvärde innebär att skuldsättningen har minskat och att den finansiella risken har blivit lägre över tid.', 'Räntetäckningsgrad_long_trend': 'Räntetäckningsgradstrenden visar om bolaget har förbättrat sin förmåga att täcka räntekostnader med rörelseresultatet (EBIT) under de senaste fyra åren. Ett högre trendvärde innebär att marginalen har ökat och att bolaget har blivit mer motståndskraftigt mot räntekostnader över tid.', 'Bruttomarginal_long_trend': 'Bruttomarginalstrenden visar om bolaget har ökat sin förmåga att behålla vinst efter produktionskostnader under de senaste fyra åren. Ett högre trendvärde innebär att bruttomarginalen har förbättrats och att bolaget har blivit mer lönsamt över tid.', 'Rörelsemarginal_long_trend': 'Rörelsemarginalstrenden visar om bolaget har blivit bättre på att kontrollera sina rörelsekostnader och öka vinsten under de senaste fyra åren. Ett högre trendvärde innebär att rörelsemarginalen har ökat och att bolaget har blivit mer effektivt över tid.', 'Vinstmarginal_long_trend': 'Vinstmarginalstrenden visar om bolaget har ökat sin förmåga att omvandla omsättning till vinst under de senaste fyra åren. Ett högre trendvärde innebär att vinstmarginalen har förbättrats och att bolaget har blivit mer lönsamt över tid.', 'PE_tal_long_trend': 'P/E-talstrenden visar om aktien har blivit billigare eller dyrare i förhållande till vinst per aktie under de senaste fyra åren. Ett lägre trendvärde innebär att aktien har blivit billigare över tid, medan ett högre värde kan tyda på ökad värdering.', 'PB_tal_long_trend': 'P/B-talstrenden visar om aktien har blivit mer eller mindre attraktiv i förhållande till eget kapital per aktie under de senaste fyra åren. Ett lägre trendvärde innebär att aktien har blivit mer attraktivt värderad över tid.', 'EV_EBITDA_long_trend': 'EV/EBITDA-trenden visar om bolaget har blivit mer eller mindre attraktivt värderat i förhållande till rörelseresultat före avskrivningar under de senaste fyra åren. Ett lägre trendvärde innebär att bolaget har blivit mer attraktivt värderat över tid.', 'Rörelseflödesmarginal_long_trend': 'Rörelseflödesmarginalstrenden visar om bolaget har förbättrat sin förmåga att omvandla omsättning till kassaflöde under de senaste fyra åren. Ett högre trendvärde innebär att kassaflödesgenereringen har ökat över tid.', 'Fritt_Kassaflode_per_Aktie_long_trend': 'Trenden för fritt kassaflöde per aktie visar om bolaget har blivit bättre på att skapa kassaflöde till aktieägarna under de senaste fyra åren. Ett högre trendvärde innebär att bolaget har förbättrat sin kassaflödesgenerering över tid.', 'Kassaflöde_till_Skuld_long_trend': 'Trenden för kassaflöde till skuld visar om bolaget har blivit bättre på att betala av sina skulder med kassaflöde från verksamheten under de senaste fyra åren. Ett högre trendvärde innebär att bolaget har förbättrat sin skuldsituation över tid.'}, 'display_names': {'ROE': 'Avkastning på eget kapital', 'ROIC': 'Avkastning på investerat kapital', 'Soliditet': 'Soliditet', 'Skuldsättningsgrad': 'Skuldsättningsgrad', 'Räntetäckningsgrad': 'Räntetäckningsgrad', 'Bruttomarginal': 'Bruttomarginal', 'Rörelsemarginal': 'Rörelsemarginal', 'Vinstmarginal': 'Vinstmarginal', 'PE_tal': 'P/E-tal', 'PB_tal': 'P/B-tal', 'EV_EBITDA': 'EV/EBITDA', 'Rörelseflödesmarginal': 'Rörelseflödesmarginal', 'Fritt_Kassaflode_per_Aktie': 'Fritt kassaflöde/aktie', 'Kassaflode_till_Skuld': 'Kassaflöde/skuld', 'Basic_EPS': 'Vinst/aktie (EPS)', 'Total_Revenue': 'Omsättning', 'EBITDA': 'EBITDA', 'pct_SMA_medium_vs_SMA_long': 'SMA 50 vs 200 (%)', 'pct_SMA_short_vs_SMA_medium': 'SMA 10 vs 50 (%)', 'pct_Close_vs_SMA_short': 'Pris vs SMA 10 (%)', 'long_trend_clusterRank': 'Trend 4 år', 'ttm_current_clusterRank': 'Senaste TTM', 'ttm_momentum_clusterRank': 'TTM-momentum', 'cagr_close': 'CAGR Aktiekurs', 'cagrTotal_Revenue': 'Omsättning trend 4 år', 'cagrBasic_EPS': 'Vinst/aktie trend 4 år', 'pct_diff_short': 'Delta 20 dagar (%)', 'pct_diff_medium': 'Delta 90 dagar (%)', 'pct_diff_long': 'Delta 200 dagar (%)', 'Kvalitet_long_trend_catRank': 'Kvalitet - Trend 4 år', 'Kvalitet_ttm_current_catRank': 'Kvalitet - Senaste TTM', 'Kvalitet_ttm_momentum_catRank': 'Kvalitet - TTM-momentum', 'Hälsa_long_trend_catRank': 'Hälsa - Trend 4 år', 'Hälsa_ttm_current_catRank': 'Hälsa - Senaste TTM', 'Hälsa_ttm_momentum_catRank': 'Hälsa - TTM-momentum', 'Lönsamhet_long_trend_catRank': 'Lönsamhet - Trend 4 år', 'Lönsamhet_ttm_current_catRank': 'Lönsamhet - Senaste TTM', 'Lönsamhet_ttm_momentum_catRank': 'Lönsamhet - TTM-momentum', 'Värdering_long_trend_catRank': 'Värdering - Trend 4 år', 'Värdering_ttm_current_catRank': 'Värdering - Senaste TTM', 'Värdering_ttm_momentum_catRank': 'Värdering - TTM-momentum', 'Kassaflöde_long_trend_catRank': 'Kassaflöde - Trend 4 år', 'Kassaflöde_ttm_current_catRank': 'Kassaflöde - Senaste TTM', 'Kassaflöde_ttm_momentum_catRank': 'Kassaflöde - TTM-momentum', 'Kvalitet': 'Kvalitet', 'Halsa': 'Hälsa', 'Lonsamhet': 'Lönsamhet', 'Vardering': 'Värdering', 'Kassaflode': 'Kassaflöde', 'SMA_short': 'SMA 10', 'SMA_medium': 'SMA 50', 'SMA_long': 'SMA 200', 'Total_Revenue_AvgGrowth_Rank': 'Rank Omsättning tillväxt', 'Basic_EPS_AvgGrowth_Rank': 'Rank Vinst/aktie tillväxt', 'Dividend_AvgGrowth_Rank': 'Rank Utdelning tillväxt', 'Total_Revenue_AvgGrowth': 'Omsättning tillväxt', 'Basic_EPS_AvgGrowth': 'Vinst/aktie tillväxt', 'Dividend_AvgGrowth': 'Utdelning tillväxt'}, 'tooltip_texts': {'pct_SMA_medium_vs_SMA_long': 'Skillnaden mellan 50-dagars och 200-dagars glidande medelvärde i procent (senaste handelsdagen). Ett positivt värde indikerar att den kortare medelvärdesperioden ligger över den längre, vilket ofta ses som ett styrketecken i aktiens trend.', 'pct_SMA_short_vs_SMA_medium': 'Skillnaden mellan 10-dagars och 50-dagars glidande medelvärde i procent (senaste handelsdagen). Ett positivt värde kan tyda på att aktien har en kortsiktig uppåtgående trend.', 'pct_Close_vs_SMA_short': 'Skillnaden mellan stängningskurs och 10-dagars glidande medelvärde i procent (senaste handelsdagen). Ett positivt värde innebär att aktien handlas över sitt kortsiktiga medelvärde, vilket kan signalera styrka.', 'Long_Trend_clusterRank': 'Sammanlagd rankning av aktier baserat på **trenden** från senaste 4 årens finansiella resultat. Skala 0-100, där 100 är bäst och 0 är sämst. Högre värde indikerar att bolaget har haft en positiv utveckling över tid inom flera nyckeltal.', 'TTM_Current_clusterRank': 'Sammanlagd rankning av aktier baserat på **senaste årets** finansiella resultat. Skala 0-100, där 100 är bäst och 0 är sämst. Högre värde visar att bolaget presterar starkt just nu inom flera nyckeltal.', 'TTM_Momentum_clusterRank': 'Sammanlagd rankning av aktier baserat på **ttm (trailing twelve months)** finansiella resultat jämfört med senaste årsresultat. Skala 0-100, där 100 är bäst och 0 är sämst. Högre värde indikerar att bolaget har en stark prestation sedan senaste årsrapport.', 'cagrTotal_Revenue': 'Rankning av omsättningens trend över de senaste 4 åren. Ett högt värde indikerar att bolaget har haft en stabil och positiv tillväxt i omsättningen.', 'cagrBasic_EPS': 'Rankning av vinst per aktie (EPS) trend över de senaste 4 åren. Ett högt värde visar att bolaget har haft en god och växande lönsamhet per aktie över tid.', 'Total_Revenue_AvgGrowth_Rank': 'Rankning av genomsnittlig tillväxttakt för omsättningen över de senaste 4 åren.', 'Basic_EPS_AvgGrowth_Rank': 'Rankning av genomsnittlig tillväxttakt för vinst per aktie (EPS) över de senaste 4 åren.', 'Dividend_AvgGrowth_Rank': 'Rankning av genomsnittlig tillväxttakt för utdelningen över de senaste 4 åren.', 'Viktning för Trend (%)': 'Viktning av **trend över de senaste 4 åren** i den övergripande rankningen.', 'Viktning för Senaste (%)': 'Viktning av **senaste årets resultat** i den övergripande rankningen.', 'Viktning för TTM (%)': 'Viktning av **TTM-förändring** jämfört med senaste årsresultat i den övergripande rankningen. (Trailing Twelve Months, TTM)'}, 'color_ranges': [{'range': [0, 20], 'color': '#ffcccc'}, {'range': [20, 40], 'color': '#ffe5cc'}, {'range': [40, 60], 'color': '#ffffcc'}, {'range': [60, 80], 'color': '#e6ffe6'}, {'range': [80, 100], 'color': '#ccffcc'}]}\n",
      "\n",
      "debug_mappings:\n",
      "<bound method ConfigMappings.debug_mappings of <config_mappings.ConfigMappings object at 0x1301e2750>>\n",
      "\n",
      "display_names:\n",
      "{'ROE': 'Avkastning på eget kapital', 'ROIC': 'Avkastning på investerat kapital', 'Soliditet': 'Soliditet', 'Skuldsättningsgrad': 'Skuldsättningsgrad', 'Räntetäckningsgrad': 'Räntetäckningsgrad', 'Bruttomarginal': 'Bruttomarginal', 'Rörelsemarginal': 'Rörelsemarginal', 'Vinstmarginal': 'Vinstmarginal', 'PE_tal': 'P/E-tal', 'PB_tal': 'P/B-tal', 'EV_EBITDA': 'EV/EBITDA', 'Rörelseflödesmarginal': 'Rörelseflödesmarginal', 'Fritt_Kassaflode_per_Aktie': 'Fritt kassaflöde/aktie', 'Kassaflode_till_Skuld': 'Kassaflöde/skuld', 'Basic_EPS': 'Vinst/aktie (EPS)', 'Total_Revenue': 'Omsättning', 'EBITDA': 'EBITDA', 'pct_SMA_medium_vs_SMA_long': 'SMA 50 vs 200 (%)', 'pct_SMA_short_vs_SMA_medium': 'SMA 10 vs 50 (%)', 'pct_Close_vs_SMA_short': 'Pris vs SMA 10 (%)', 'long_trend_clusterRank': 'Trend 4 år', 'ttm_current_clusterRank': 'Senaste TTM', 'ttm_momentum_clusterRank': 'TTM-momentum', 'cagr_close': 'CAGR Aktiekurs', 'cagrTotal_Revenue': 'Omsättning trend 4 år', 'cagrBasic_EPS': 'Vinst/aktie trend 4 år', 'pct_diff_short': 'Delta 20 dagar (%)', 'pct_diff_medium': 'Delta 90 dagar (%)', 'pct_diff_long': 'Delta 200 dagar (%)', 'Kvalitet_long_trend_catRank': 'Kvalitet - Trend 4 år', 'Kvalitet_ttm_current_catRank': 'Kvalitet - Senaste TTM', 'Kvalitet_ttm_momentum_catRank': 'Kvalitet - TTM-momentum', 'Hälsa_long_trend_catRank': 'Hälsa - Trend 4 år', 'Hälsa_ttm_current_catRank': 'Hälsa - Senaste TTM', 'Hälsa_ttm_momentum_catRank': 'Hälsa - TTM-momentum', 'Lönsamhet_long_trend_catRank': 'Lönsamhet - Trend 4 år', 'Lönsamhet_ttm_current_catRank': 'Lönsamhet - Senaste TTM', 'Lönsamhet_ttm_momentum_catRank': 'Lönsamhet - TTM-momentum', 'Värdering_long_trend_catRank': 'Värdering - Trend 4 år', 'Värdering_ttm_current_catRank': 'Värdering - Senaste TTM', 'Värdering_ttm_momentum_catRank': 'Värdering - TTM-momentum', 'Kassaflöde_long_trend_catRank': 'Kassaflöde - Trend 4 år', 'Kassaflöde_ttm_current_catRank': 'Kassaflöde - Senaste TTM', 'Kassaflöde_ttm_momentum_catRank': 'Kassaflöde - TTM-momentum', 'Kvalitet': 'Kvalitet', 'Halsa': 'Hälsa', 'Lonsamhet': 'Lönsamhet', 'Vardering': 'Värdering', 'Kassaflode': 'Kassaflöde', 'SMA_short': 'SMA 10', 'SMA_medium': 'SMA 50', 'SMA_long': 'SMA 200', 'Total_Revenue_AvgGrowth_Rank': 'Rank Omsättning tillväxt', 'Basic_EPS_AvgGrowth_Rank': 'Rank Vinst/aktie tillväxt', 'Dividend_AvgGrowth_Rank': 'Rank Utdelning tillväxt', 'Total_Revenue_AvgGrowth': 'Omsättning tillväxt', 'Basic_EPS_AvgGrowth': 'Vinst/aktie tillväxt', 'Dividend_AvgGrowth': 'Utdelning tillväxt'}\n",
      "\n",
      "extract_period_type:\n",
      "<bound method ConfigMappings.extract_period_type of <config_mappings.ConfigMappings object at 0x1301e2750>>\n",
      "\n",
      "extract_ratio_base:\n",
      "<bound method ConfigMappings.extract_ratio_base of <config_mappings.ConfigMappings object at 0x1301e2750>>\n",
      "\n",
      "get_all_ratio_columns:\n",
      "<bound method ConfigMappings.get_all_ratio_columns of <config_mappings.ConfigMappings object at 0x1301e2750>>\n",
      "\n",
      "get_categories_for_ratio:\n",
      "<bound method ConfigMappings.get_categories_for_ratio of <config_mappings.ConfigMappings object at 0x1301e2750>>\n",
      "\n",
      "get_category_columns:\n",
      "<bound method ConfigMappings.get_category_columns of <config_mappings.ConfigMappings object at 0x1301e2750>>\n",
      "\n",
      "get_category_rank_column:\n",
      "<bound method ConfigMappings.get_category_rank_column of <config_mappings.ConfigMappings object at 0x1301e2750>>\n",
      "\n",
      "get_category_rank_columns:\n",
      "<bound method ConfigMappings.get_category_rank_columns of <config_mappings.ConfigMappings object at 0x1301e2750>>\n",
      "\n",
      "get_category_rank_columns_for_period:\n",
      "<bound method ConfigMappings.get_category_rank_columns_for_period of <config_mappings.ConfigMappings object at 0x1301e2750>>\n",
      "\n",
      "get_cluster_col_name:\n",
      "<bound method ConfigMappings.get_cluster_col_name of <config_mappings.ConfigMappings object at 0x1301e2750>>\n",
      "\n",
      "get_cluster_rank_columns:\n",
      "<bound method ConfigMappings.get_cluster_rank_columns of <config_mappings.ConfigMappings object at 0x1301e2750>>\n",
      "\n",
      "get_corresponding_rank_column:\n",
      "<bound method ConfigMappings.get_corresponding_rank_column of <config_mappings.ConfigMappings object at 0x1301e2750>>\n",
      "\n",
      "get_corresponding_value_column:\n",
      "<bound method ConfigMappings.get_corresponding_value_column of <config_mappings.ConfigMappings object at 0x1301e2750>>\n",
      "\n",
      "get_display_name:\n",
      "<bound method ConfigMappings.get_display_name of <config_mappings.ConfigMappings object at 0x1301e2750>>\n",
      "\n",
      "get_missing_columns:\n",
      "<bound method ConfigMappings.get_missing_columns of <config_mappings.ConfigMappings object at 0x1301e2750>>\n",
      "\n",
      "get_period_description:\n",
      "<bound method ConfigMappings.get_period_description of <config_mappings.ConfigMappings object at 0x1301e2750>>\n",
      "\n",
      "get_rank_score_columns:\n",
      "<bound method ConfigMappings.get_rank_score_columns of <config_mappings.ConfigMappings object at 0x1301e2750>>\n",
      "\n",
      "get_ratio_metadata:\n",
      "<bound method ConfigMappings.get_ratio_metadata of <config_mappings.ConfigMappings object at 0x1301e2750>>\n",
      "\n",
      "get_ratios_for_category:\n",
      "<bound method ConfigMappings.get_ratios_for_category of <config_mappings.ConfigMappings object at 0x1301e2750>>\n",
      "\n",
      "get_underlying_ratios_for_category_rank:\n",
      "<bound method ConfigMappings.get_underlying_ratios_for_category_rank of <config_mappings.ConfigMappings object at 0x1301e2750>>\n",
      "\n",
      "is_higher_better:\n",
      "<bound method ConfigMappings.is_higher_better of <config_mappings.ConfigMappings object at 0x1301e2750>>\n",
      "\n",
      "kategorier:\n",
      "{'Kvalitet': ['ROE', 'ROIC'], 'Hälsa': ['Soliditet', 'Skuldsättningsgrad'], 'Lönsamhet': ['Bruttomarginal', 'Rörelsemarginal', 'Vinstmarginal'], 'Värdering': ['PE_tal', 'PB_tal', 'EV_EBITDA'], 'Kassaflöde': ['Rörelseflödesmarginal', 'Kassaflöde_till_Skuld']}\n",
      "\n",
      "period_types:\n",
      "['long_trend', 'ttm_momentum', 'ttm_current']\n",
      "\n",
      "rank_to_value:\n",
      "{'ROE_long_trend_ratioRank': 'ROE_long_trend_ratioValue', 'ROE_ttm_momentum_ratioRank': 'ROE_ttm_momentum_ratioValue', 'ROE_ttm_current_ratioRank': 'ROE_ttm_current_ratioValue', 'ROIC_long_trend_ratioRank': 'ROIC_long_trend_ratioValue', 'ROIC_ttm_momentum_ratioRank': 'ROIC_ttm_momentum_ratioValue', 'ROIC_ttm_current_ratioRank': 'ROIC_ttm_current_ratioValue', 'Soliditet_long_trend_ratioRank': 'Soliditet_long_trend_ratioValue', 'Soliditet_ttm_momentum_ratioRank': 'Soliditet_ttm_momentum_ratioValue', 'Soliditet_ttm_current_ratioRank': 'Soliditet_ttm_current_ratioValue', 'Skuldsättningsgrad_long_trend_ratioRank': 'Skuldsättningsgrad_long_trend_ratioValue', 'Skuldsättningsgrad_ttm_momentum_ratioRank': 'Skuldsättningsgrad_ttm_momentum_ratioValue', 'Skuldsättningsgrad_ttm_current_ratioRank': 'Skuldsättningsgrad_ttm_current_ratioValue', 'Bruttomarginal_long_trend_ratioRank': 'Bruttomarginal_long_trend_ratioValue', 'Bruttomarginal_ttm_momentum_ratioRank': 'Bruttomarginal_ttm_momentum_ratioValue', 'Bruttomarginal_ttm_current_ratioRank': 'Bruttomarginal_ttm_current_ratioValue', 'Rörelsemarginal_long_trend_ratioRank': 'Rörelsemarginal_long_trend_ratioValue', 'Rörelsemarginal_ttm_momentum_ratioRank': 'Rörelsemarginal_ttm_momentum_ratioValue', 'Rörelsemarginal_ttm_current_ratioRank': 'Rörelsemarginal_ttm_current_ratioValue', 'Vinstmarginal_long_trend_ratioRank': 'Vinstmarginal_long_trend_ratioValue', 'Vinstmarginal_ttm_momentum_ratioRank': 'Vinstmarginal_ttm_momentum_ratioValue', 'Vinstmarginal_ttm_current_ratioRank': 'Vinstmarginal_ttm_current_ratioValue', 'PE_tal_long_trend_ratioRank': 'PE_tal_long_trend_ratioValue', 'PE_tal_ttm_momentum_ratioRank': 'PE_tal_ttm_momentum_ratioValue', 'PE_tal_ttm_current_ratioRank': 'PE_tal_ttm_current_ratioValue', 'PB_tal_long_trend_ratioRank': 'PB_tal_long_trend_ratioValue', 'PB_tal_ttm_momentum_ratioRank': 'PB_tal_ttm_momentum_ratioValue', 'PB_tal_ttm_current_ratioRank': 'PB_tal_ttm_current_ratioValue', 'EV_EBITDA_long_trend_ratioRank': 'EV_EBITDA_long_trend_ratioValue', 'EV_EBITDA_ttm_momentum_ratioRank': 'EV_EBITDA_ttm_momentum_ratioValue', 'EV_EBITDA_ttm_current_ratioRank': 'EV_EBITDA_ttm_current_ratioValue', 'Rörelseflödesmarginal_long_trend_ratioRank': 'Rörelseflödesmarginal_long_trend_ratioValue', 'Rörelseflödesmarginal_ttm_momentum_ratioRank': 'Rörelseflödesmarginal_ttm_momentum_ratioValue', 'Rörelseflödesmarginal_ttm_current_ratioRank': 'Rörelseflödesmarginal_ttm_current_ratioValue', 'Kassaflöde_till_Skuld_long_trend_ratioRank': 'Kassaflöde_till_Skuld_long_trend_ratioValue', 'Kassaflöde_till_Skuld_ttm_momentum_ratioRank': 'Kassaflöde_till_Skuld_ttm_momentum_ratioValue', 'Kassaflöde_till_Skuld_ttm_current_ratioRank': 'Kassaflöde_till_Skuld_ttm_current_ratioValue'}\n",
      "\n",
      "ratio_bases:\n",
      "['ROE', 'ROIC', 'Soliditet', 'Skuldsättningsgrad', 'Bruttomarginal', 'Rörelsemarginal', 'Vinstmarginal', 'PE_tal', 'PB_tal', 'EV_EBITDA', 'Rörelseflödesmarginal', 'Kassaflöde_till_Skuld']\n",
      "\n",
      "ratio_definitions:\n",
      "{'ROE': {'formula': 'Net_Income / Stockholders_Equity', 'source_income': ['Net Income'], 'source_bs': ['Stockholders Equity'], 'higher_is_better': True}, 'ROIC': {'formula': '(EBIT * (1 - (Tax_Provision / Pretax_Income))) / (Total_Debt + Stockholders_Equity)', 'source_income': ['EBIT', 'Tax Provision', 'Pretax Income'], 'source_bs': ['Total Debt', 'Stockholders Equity'], 'higher_is_better': True}, 'Soliditet': {'formula': 'Stockholders_Equity / Total_Assets', 'source_bs': ['Stockholders Equity', 'Total Assets'], 'higher_is_better': True}, 'Skuldsättningsgrad': {'formula': 'Total_Debt / Stockholders_Equity', 'source_bs': ['Total Debt', 'Stockholders Equity'], 'higher_is_better': False}, 'Bruttomarginal': {'formula': 'Gross_Profit / Total_Revenue', 'source_income': ['Gross Profit', 'Total Revenue'], 'higher_is_better': True}, 'Rörelsemarginal': {'formula': 'Operating_Income / Total_Revenue', 'source_income': ['Operating Income', 'Total Revenue'], 'higher_is_better': True}, 'Vinstmarginal': {'formula': 'Net_Income / Total_Revenue', 'source_income': ['Net Income', 'Total Revenue'], 'higher_is_better': True}, 'PE_tal': {'formula': 'currentPrice / Basic_EPS', 'source_stock': ['currentPrice'], 'source_income': ['Basic EPS'], 'higher_is_better': False}, 'PB_tal': {'formula': 'currentPrice / (Stockholders_Equity / sharesOutstanding)', 'source_stock': ['currentPrice', 'sharesOutstanding'], 'source_bs': ['Stockholders Equity'], 'higher_is_better': False}, 'EV_EBITDA': {'formula': '(currentPrice * sharesOutstanding + Total_Debt - Cash_And_Cash_Equivalents) / EBITDA', 'source_stock': ['currentPrice', 'sharesOutstanding'], 'source_bs': ['Total Debt', 'Cash And Cash Equivalents'], 'source_income': ['EBITDA'], 'higher_is_better': False}, 'Rörelseflödesmarginal': {'formula': 'Operating_Cash_Flow / Total_Revenue', 'source_cf': ['Operating Cash Flow'], 'source_income': ['Total Revenue'], 'higher_is_better': True}, 'Kassaflöde_till_Skuld': {'formula': 'Operating_Cash_Flow / Total_Debt', 'source_cf': ['Operating Cash Flow'], 'source_bs': ['Total Debt'], 'higher_is_better': True}}\n",
      "\n",
      "ratio_to_categories:\n",
      "{'ROE': ['Kvalitet'], 'ROIC': ['Kvalitet'], 'Soliditet': ['Hälsa'], 'Skuldsättningsgrad': ['Hälsa'], 'Bruttomarginal': ['Lönsamhet'], 'Rörelsemarginal': ['Lönsamhet'], 'Vinstmarginal': ['Lönsamhet'], 'PE_tal': ['Värdering'], 'PB_tal': ['Värdering'], 'EV_EBITDA': ['Värdering'], 'Rörelseflödesmarginal': ['Kassaflöde'], 'Kassaflöde_till_Skuld': ['Kassaflöde']}\n",
      "\n",
      "validate_column_exists:\n",
      "<bound method ConfigMappings.validate_column_exists of <config_mappings.ConfigMappings object at 0x1301e2750>>\n",
      "\n",
      "validate_config_consistency:\n",
      "<bound method ConfigMappings.validate_config_consistency of <config_mappings.ConfigMappings object at 0x1301e2750>>\n",
      "\n",
      "value_to_rank:\n",
      "{'ROE_long_trend_ratioValue': 'ROE_long_trend_ratioRank', 'ROE_ttm_momentum_ratioValue': 'ROE_ttm_momentum_ratioRank', 'ROE_ttm_current_ratioValue': 'ROE_ttm_current_ratioRank', 'ROIC_long_trend_ratioValue': 'ROIC_long_trend_ratioRank', 'ROIC_ttm_momentum_ratioValue': 'ROIC_ttm_momentum_ratioRank', 'ROIC_ttm_current_ratioValue': 'ROIC_ttm_current_ratioRank', 'Soliditet_long_trend_ratioValue': 'Soliditet_long_trend_ratioRank', 'Soliditet_ttm_momentum_ratioValue': 'Soliditet_ttm_momentum_ratioRank', 'Soliditet_ttm_current_ratioValue': 'Soliditet_ttm_current_ratioRank', 'Skuldsättningsgrad_long_trend_ratioValue': 'Skuldsättningsgrad_long_trend_ratioRank', 'Skuldsättningsgrad_ttm_momentum_ratioValue': 'Skuldsättningsgrad_ttm_momentum_ratioRank', 'Skuldsättningsgrad_ttm_current_ratioValue': 'Skuldsättningsgrad_ttm_current_ratioRank', 'Bruttomarginal_long_trend_ratioValue': 'Bruttomarginal_long_trend_ratioRank', 'Bruttomarginal_ttm_momentum_ratioValue': 'Bruttomarginal_ttm_momentum_ratioRank', 'Bruttomarginal_ttm_current_ratioValue': 'Bruttomarginal_ttm_current_ratioRank', 'Rörelsemarginal_long_trend_ratioValue': 'Rörelsemarginal_long_trend_ratioRank', 'Rörelsemarginal_ttm_momentum_ratioValue': 'Rörelsemarginal_ttm_momentum_ratioRank', 'Rörelsemarginal_ttm_current_ratioValue': 'Rörelsemarginal_ttm_current_ratioRank', 'Vinstmarginal_long_trend_ratioValue': 'Vinstmarginal_long_trend_ratioRank', 'Vinstmarginal_ttm_momentum_ratioValue': 'Vinstmarginal_ttm_momentum_ratioRank', 'Vinstmarginal_ttm_current_ratioValue': 'Vinstmarginal_ttm_current_ratioRank', 'PE_tal_long_trend_ratioValue': 'PE_tal_long_trend_ratioRank', 'PE_tal_ttm_momentum_ratioValue': 'PE_tal_ttm_momentum_ratioRank', 'PE_tal_ttm_current_ratioValue': 'PE_tal_ttm_current_ratioRank', 'PB_tal_long_trend_ratioValue': 'PB_tal_long_trend_ratioRank', 'PB_tal_ttm_momentum_ratioValue': 'PB_tal_ttm_momentum_ratioRank', 'PB_tal_ttm_current_ratioValue': 'PB_tal_ttm_current_ratioRank', 'EV_EBITDA_long_trend_ratioValue': 'EV_EBITDA_long_trend_ratioRank', 'EV_EBITDA_ttm_momentum_ratioValue': 'EV_EBITDA_ttm_momentum_ratioRank', 'EV_EBITDA_ttm_current_ratioValue': 'EV_EBITDA_ttm_current_ratioRank', 'Rörelseflödesmarginal_long_trend_ratioValue': 'Rörelseflödesmarginal_long_trend_ratioRank', 'Rörelseflödesmarginal_ttm_momentum_ratioValue': 'Rörelseflödesmarginal_ttm_momentum_ratioRank', 'Rörelseflödesmarginal_ttm_current_ratioValue': 'Rörelseflödesmarginal_ttm_current_ratioRank', 'Kassaflöde_till_Skuld_long_trend_ratioValue': 'Kassaflöde_till_Skuld_long_trend_ratioRank', 'Kassaflöde_till_Skuld_ttm_momentum_ratioValue': 'Kassaflöde_till_Skuld_ttm_momentum_ratioRank', 'Kassaflöde_till_Skuld_ttm_current_ratioValue': 'Kassaflöde_till_Skuld_ttm_current_ratioRank'}\n",
      "\n",
      "value_types:\n",
      "['ratioValue', 'ratioRank']\n",
      "\n"
     ]
    }
   ],
   "source": [
    "# Loop through all mapping methods and print their names and contents\n",
    "for attr in dir(m):\n",
    "    if not attr.startswith(\"_\"):\n",
    "        value = getattr(m, attr)\n",
    "        print(f\"{attr}:\\n{value}\\n\")"
   ]
  },
  {
   "cell_type": "code",
   "execution_count": 99,
   "id": "6f963920",
   "metadata": {},
   "outputs": [
    {
     "data": {
      "text/plain": [
       "['Kvalitet', 'Hälsa', 'Lönsamhet', 'Värdering', 'Kassaflöde']"
      ]
     },
     "execution_count": 99,
     "metadata": {},
     "output_type": "execute_result"
    }
   ],
   "source": [
    "# list all mapping methods\n",
    "m.category_bases"
   ]
  },
  {
   "cell_type": "code",
   "execution_count": 100,
   "id": "b742fd61",
   "metadata": {},
   "outputs": [
    {
     "data": {
      "text/plain": [
       "{'Kvalitet_ttm_current_ratioRank': {'ROE_ttm_current_ratioRank': 1,\n",
       "  'ROIC_ttm_current_ratioRank': 1},\n",
       " 'Kvalitet_long_trend_ratioRank': {'ROE_long_trend_ratioRank': 1,\n",
       "  'ROIC_long_trend_ratioRank': 1},\n",
       " 'Kvalitet_ttm_momentum_ratioRank': {'ROE_ttm_momentum_ratioRank': 1,\n",
       "  'ROIC_ttm_momentum_ratioRank': 1},\n",
       " 'Hälsa_ttm_current_ratioRank': {'Soliditet_ttm_current_ratioRank': 1,\n",
       "  'Skuldsättningsgrad_ttm_current_ratioRank': 1},\n",
       " 'Hälsa_long_trend_ratioRank': {'Soliditet_long_trend_ratioRank': 1,\n",
       "  'Skuldsättningsgrad_long_trend_ratioRank': 1},\n",
       " 'Hälsa_ttm_momentum_ratioRank': {'Soliditet_ttm_momentum_ratioRank': 1,\n",
       "  'Skuldsättningsgrad_ttm_momentum_ratioRank': 1},\n",
       " 'Lönsamhet_ttm_current_ratioRank': {'Bruttomarginal_ttm_current_ratioRank': 1,\n",
       "  'Rörelsemarginal_ttm_current_ratioRank': 1,\n",
       "  'Vinstmarginal_ttm_current_ratioRank': 1},\n",
       " 'Lönsamhet_long_trend_ratioRank': {'Bruttomarginal_long_trend_ratioRank': 1,\n",
       "  'Rörelsemarginal_long_trend_ratioRank': 1,\n",
       "  'Vinstmarginal_long_trend_ratioRank': 1},\n",
       " 'Lönsamhet_ttm_momentum_ratioRank': {'Bruttomarginal_ttm_momentum_ratioRank': 1,\n",
       "  'Rörelsemarginal_ttm_momentum_ratioRank': 1,\n",
       "  'Vinstmarginal_ttm_momentum_ratioRank': 1},\n",
       " 'Värdering_ttm_current_ratioRank': {'PE_tal_ttm_current_ratioRank': 1,\n",
       "  'PB_tal_ttm_current_ratioRank': 1,\n",
       "  'EV_EBITDA_ttm_current_ratioRank': 1},\n",
       " 'Värdering_long_trend_ratioRank': {'PE_tal_long_trend_ratioRank': 1,\n",
       "  'PB_tal_long_trend_ratioRank': 1,\n",
       "  'EV_EBITDA_long_trend_ratioRank': 1},\n",
       " 'Värdering_ttm_momentum_ratioRank': {'PE_tal_ttm_momentum_ratioRank': 1,\n",
       "  'PB_tal_ttm_momentum_ratioRank': 1,\n",
       "  'EV_EBITDA_ttm_momentum_ratioRank': 1},\n",
       " 'Kassaflöde_ttm_current_ratioRank': {'Rörelseflödesmarginal_ttm_current_ratioRank': 1,\n",
       "  'Kassaflöde_till_Skuld_ttm_current_ratioRank': 1},\n",
       " 'Kassaflöde_long_trend_ratioRank': {'Rörelseflödesmarginal_long_trend_ratioRank': 1,\n",
       "  'Kassaflöde_till_Skuld_long_trend_ratioRank': 1},\n",
       " 'Kassaflöde_ttm_momentum_ratioRank': {'Rörelseflödesmarginal_ttm_momentum_ratioRank': 1,\n",
       "  'Kassaflöde_till_Skuld_ttm_momentum_ratioRank': 1}}"
      ]
     },
     "execution_count": 100,
     "metadata": {},
     "output_type": "execute_result"
    }
   ],
   "source": [
    "m.category_ratios"
   ]
  },
  {
   "cell_type": "code",
   "execution_count": 101,
   "id": "b3dd72ef",
   "metadata": {},
   "outputs": [
    {
     "data": {
      "text/plain": [
       "['catRank', 'ratioRank']"
      ]
     },
     "execution_count": 101,
     "metadata": {},
     "output_type": "execute_result"
    }
   ],
   "source": [
    "m.category_types"
   ]
  },
  {
   "cell_type": "code",
   "execution_count": 102,
   "id": "4e2bf3e3",
   "metadata": {},
   "outputs": [
    {
     "data": {
      "text/plain": [
       "['long_trend_clusterRank',\n",
       " 'ttm_momentum_clusterRank',\n",
       " 'ttm_current_clusterRank']"
      ]
     },
     "execution_count": 102,
     "metadata": {},
     "output_type": "execute_result"
    }
   ],
   "source": [
    "m.cluster_columns"
   ]
  },
  {
   "cell_type": "code",
   "execution_count": 103,
   "id": "f94d3b74",
   "metadata": {},
   "outputs": [
    {
     "data": {
      "text/plain": [
       "{'long_trend': {'data_source': 'annual',\n",
       "  'metric_type': 'trend',\n",
       "  'description': 'Trend över 4 år',\n",
       "  'col_name': 'Trend 4 år'},\n",
       " 'ttm_momentum': {'data_source': 'quarterly',\n",
       "  'metric_type': 'trend',\n",
       "  'description': 'TTM-momentum, senaste 2 kvartalen',\n",
       "  'col_name': 'TTM trend 2Q'},\n",
       " 'ttm_current': {'data_source': 'quarterly',\n",
       "  'metric_type': 'latest',\n",
       "  'description': 'Senaste TTM-värden',\n",
       "  'col_name': 'TTM senaste Q'}}"
      ]
     },
     "execution_count": 103,
     "metadata": {},
     "output_type": "execute_result"
    }
   ],
   "source": [
    "m.cluster_config"
   ]
  },
  {
   "cell_type": "code",
   "execution_count": 104,
   "id": "4453a948",
   "metadata": {},
   "outputs": [
    {
     "data": {
      "text/plain": [
       "['Kvalitet', 'Hälsa', 'Lönsamhet', 'Värdering', 'Kassaflöde']"
      ]
     },
     "execution_count": 104,
     "metadata": {},
     "output_type": "execute_result"
    }
   ],
   "source": [
    "m.category_bases"
   ]
  },
  {
   "cell_type": "code",
   "execution_count": 105,
   "id": "c8c5162e",
   "metadata": {},
   "outputs": [
    {
     "data": {
      "text/plain": [
       "'Kvalitet_long_trend_catRank'"
      ]
     },
     "execution_count": 105,
     "metadata": {},
     "output_type": "execute_result"
    }
   ],
   "source": [
    "# Get category rank column for Kvalitet in long_trend period\n",
    "m.get_category_rank_column('Kvalitet', 'long_trend')\n",
    "# Returns: 'Kvalitet_long_trend_catRank'"
   ]
  },
  {
   "cell_type": "code",
   "execution_count": 106,
   "id": "271b6d39",
   "metadata": {},
   "outputs": [
    {
     "data": {
      "text/plain": [
       "np.float64(78.6)"
      ]
     },
     "execution_count": 106,
     "metadata": {},
     "output_type": "execute_result"
    }
   ],
   "source": [
    "df_results.loc[selected_ticker, m.get_category_rank_column('Kvalitet', 'long_trend')]"
   ]
  },
  {
   "cell_type": "code",
   "execution_count": 107,
   "id": "081a31c2",
   "metadata": {},
   "outputs": [
    {
     "data": {
      "text/plain": [
       "{'long_trend': 'Trend 4 år',\n",
       " 'ttm_momentum': 'TTM trend 2Q',\n",
       " 'ttm_current': 'TTM senaste Q'}"
      ]
     },
     "execution_count": 107,
     "metadata": {},
     "output_type": "execute_result"
    }
   ],
   "source": [
    "# Get column display names\n",
    "col_names = {period: m.get_cluster_col_name(period) for period in m.period_types}\n",
    "# Result: {'long_trend': 'Trend 4 år', 'ttm_momentum': 'TTM trend 2Q', 'ttm_current': 'TTM senaste Q'}\n",
    "col_names"
   ]
  },
  {
   "cell_type": "code",
   "execution_count": 108,
   "id": "03a6499c",
   "metadata": {},
   "outputs": [
    {
     "data": {
      "text/html": [
       "<div>\n",
       "<style scoped>\n",
       "    .dataframe tbody tr th:only-of-type {\n",
       "        vertical-align: middle;\n",
       "    }\n",
       "\n",
       "    .dataframe tbody tr th {\n",
       "        vertical-align: top;\n",
       "    }\n",
       "\n",
       "    .dataframe thead th {\n",
       "        text-align: right;\n",
       "    }\n",
       "</style>\n",
       "<table border=\"1\" class=\"dataframe\">\n",
       "  <thead>\n",
       "    <tr style=\"text-align: right;\">\n",
       "      <th></th>\n",
       "      <th>Trend 4 år</th>\n",
       "      <th>TTM trend 2Q</th>\n",
       "      <th>TTM senaste Q</th>\n",
       "    </tr>\n",
       "  </thead>\n",
       "  <tbody>\n",
       "    <tr>\n",
       "      <th>Kvalitet</th>\n",
       "      <td>78.6</td>\n",
       "      <td>50.0</td>\n",
       "      <td>64.3</td>\n",
       "    </tr>\n",
       "    <tr>\n",
       "      <th>Hälsa</th>\n",
       "      <td>100.0</td>\n",
       "      <td>100.0</td>\n",
       "      <td>100.0</td>\n",
       "    </tr>\n",
       "    <tr>\n",
       "      <th>Lönsamhet</th>\n",
       "      <td>100.0</td>\n",
       "      <td>57.1</td>\n",
       "      <td>85.7</td>\n",
       "    </tr>\n",
       "    <tr>\n",
       "      <th>Värdering</th>\n",
       "      <td>85.7</td>\n",
       "      <td>42.9</td>\n",
       "      <td>78.6</td>\n",
       "    </tr>\n",
       "    <tr>\n",
       "      <th>Kassaflöde</th>\n",
       "      <td>71.4</td>\n",
       "      <td>71.4</td>\n",
       "      <td>28.6</td>\n",
       "    </tr>\n",
       "    <tr>\n",
       "      <th>Agg. Rank</th>\n",
       "      <td>100.0</td>\n",
       "      <td>85.7</td>\n",
       "      <td>78.6</td>\n",
       "    </tr>\n",
       "  </tbody>\n",
       "</table>\n",
       "</div>"
      ],
      "text/plain": [
       "            Trend 4 år  TTM trend 2Q  TTM senaste Q\n",
       "Kvalitet          78.6          50.0           64.3\n",
       "Hälsa            100.0         100.0          100.0\n",
       "Lönsamhet        100.0          57.1           85.7\n",
       "Värdering         85.7          42.9           78.6\n",
       "Kassaflöde        71.4          71.4           28.6\n",
       "Agg. Rank        100.0          85.7           78.6"
      ]
     },
     "execution_count": 108,
     "metadata": {},
     "output_type": "execute_result"
    }
   ],
   "source": [
    "def get_category_ranks_by_period(ticker, df, mappings):\n",
    "    \"\"\"\n",
    "    Get category ranks for a stock across all periods and categories.\n",
    "    \n",
    "    Args:\n",
    "        ticker: Stock ticker symbol (e.g., 'AAK')\n",
    "        df: DataFrame with stock evaluation results (index is ticker)\n",
    "        mappings: ConfigMappings instance\n",
    "    \n",
    "    Returns:\n",
    "        DataFrame with:\n",
    "        - Rows: category_base (Kvalitet, Hälsa, Lönsamhet, etc.) + Cluster rank row at the end\n",
    "        - Columns: period_types (long_trend, ttm_momentum, ttm_current)\n",
    "        - Values: Category ranks and cluster ranks from the evaluation results\n",
    "    \"\"\"\n",
    "    # Create a dictionary to store the data\n",
    "    data = {}\n",
    "    \n",
    "    # Iterate over periods (columns)\n",
    "    for period in mappings.period_types:\n",
    "        period_data = {}\n",
    "        \n",
    "        # Iterate over categories (rows)\n",
    "        for category in mappings.category_bases:\n",
    "            # Get the column name for this category and period\n",
    "            col_name = mappings.get_category_rank_column(category, period)\n",
    "            \n",
    "            # Get the value from the dataframe\n",
    "            try:\n",
    "                value = df.loc[ticker, col_name]\n",
    "                period_data[category] = value\n",
    "            except KeyError:\n",
    "                period_data[category] = None\n",
    "        \n",
    "        # Add cluster rank for this period\n",
    "        cluster_col = mappings.cluster_mappings[period]\n",
    "        try:\n",
    "            cluster_value = df.loc[ticker, cluster_col]\n",
    "            period_data['Agg. Rank'] = cluster_value\n",
    "        except KeyError:\n",
    "            period_data['Agg. Rank'] = None\n",
    "        \n",
    "        data[period] = period_data\n",
    "    \n",
    "    # Convert to DataFrame with categories as rows and periods as columns\n",
    "    result_df = pd.DataFrame(data)\n",
    "\n",
    "    # rename columns using mappings.period_descriptions\n",
    "    col_names = {period: m.get_cluster_col_name(period) for period in m.period_types}\n",
    "    result_df.rename(columns=col_names, inplace=True)\n",
    "\n",
    "    return result_df\n",
    "\n",
    "# Test the function\n",
    "result = get_category_ranks_by_period(selected_ticker, df_results, m)\n",
    "result\n"
   ]
  },
  {
   "cell_type": "code",
   "execution_count": 116,
   "id": "68746f57",
   "metadata": {},
   "outputs": [
    {
     "data": {
      "text/html": [
       "<div>\n",
       "<style scoped>\n",
       "    .dataframe tbody tr th:only-of-type {\n",
       "        vertical-align: middle;\n",
       "    }\n",
       "\n",
       "    .dataframe tbody tr th {\n",
       "        vertical-align: top;\n",
       "    }\n",
       "\n",
       "    .dataframe thead th {\n",
       "        text-align: right;\n",
       "    }\n",
       "</style>\n",
       "<table border=\"1\" class=\"dataframe\">\n",
       "  <thead>\n",
       "    <tr style=\"text-align: right;\">\n",
       "      <th></th>\n",
       "      <th>Trend 4 år</th>\n",
       "      <th>TTM trend 2Q</th>\n",
       "      <th>TTM senaste Q</th>\n",
       "    </tr>\n",
       "  </thead>\n",
       "  <tbody>\n",
       "    <tr>\n",
       "      <th>ROE</th>\n",
       "      <td>71.4</td>\n",
       "      <td>42.9</td>\n",
       "      <td>42.9</td>\n",
       "    </tr>\n",
       "  </tbody>\n",
       "</table>\n",
       "</div>"
      ],
      "text/plain": [
       "     Trend 4 år  TTM trend 2Q  TTM senaste Q\n",
       "ROE        71.4          42.9           42.9"
      ]
     },
     "execution_count": 116,
     "metadata": {},
     "output_type": "execute_result"
    }
   ],
   "source": [
    "def get_ratio_ranks_by_period(ticker, ratio, df, mappings):\n",
    "    \"\"\"\n",
    "    Get ratio ranks for a stock across all periods.\n",
    "    \n",
    "    Args:\n",
    "        ticker: Stock ticker symbol (e.g., 'AAK')\n",
    "        ratio: Ratio name (e.g., 'ROE', 'Total_Revenue')\n",
    "        df: DataFrame with stock evaluation results (index is ticker)\n",
    "        mappings: ConfigMappings instance\n",
    "    \n",
    "    Returns:\n",
    "        DataFrame with:\n",
    "        - One row: the ratio name\n",
    "        - Columns: period_types (long_trend, ttm_momentum, ttm_current) with display names\n",
    "        - Values: Ratio ranks for each period\n",
    "    \"\"\"\n",
    "    # Create a dictionary to store the data\n",
    "    data = {}\n",
    "    \n",
    "    # Iterate over periods\n",
    "    for period in mappings.period_types:\n",
    "        # Construct the column name for this ratio and period\n",
    "        # Assuming pattern like: {ratio}_{period}_ratioRank\n",
    "        col_name = f\"{ratio}_{period}_ratioRank\"\n",
    "        \n",
    "        # Get the value from the dataframe\n",
    "        try:\n",
    "            value = df.loc[ticker, col_name]\n",
    "            data[period] = value\n",
    "        except KeyError:\n",
    "            data[period] = None\n",
    "    \n",
    "    # Convert to DataFrame with one row\n",
    "    result_df = pd.DataFrame([data])\n",
    "    result_df.index = [ratio]\n",
    "    \n",
    "    # Rename columns using display names from config\n",
    "    col_names = {period: mappings.get_cluster_col_name(period) for period in mappings.period_types}\n",
    "    result_df.rename(columns=col_names, inplace=True)\n",
    "    \n",
    "    return result_df\n",
    "\n",
    "# Test the function\n",
    "test_ratio = get_ratio_ranks_by_period(selected_ticker, 'ROE', df_results, m)\n",
    "test_ratio"
   ]
  },
  {
   "cell_type": "code",
   "execution_count": 117,
   "id": "f072948e",
   "metadata": {},
   "outputs": [
    {
     "data": {
      "text/html": [
       "<div>\n",
       "<style scoped>\n",
       "    .dataframe tbody tr th:only-of-type {\n",
       "        vertical-align: middle;\n",
       "    }\n",
       "\n",
       "    .dataframe tbody tr th {\n",
       "        vertical-align: top;\n",
       "    }\n",
       "\n",
       "    .dataframe thead th {\n",
       "        text-align: right;\n",
       "    }\n",
       "</style>\n",
       "<table border=\"1\" class=\"dataframe\">\n",
       "  <thead>\n",
       "    <tr style=\"text-align: right;\">\n",
       "      <th></th>\n",
       "      <th>Year 2021</th>\n",
       "      <th>Year 2022</th>\n",
       "      <th>Year 2023</th>\n",
       "      <th>Year 2024</th>\n",
       "      <th>TTM 2025Q1</th>\n",
       "      <th>TTM 2025Q2</th>\n",
       "    </tr>\n",
       "  </thead>\n",
       "  <tbody>\n",
       "    <tr>\n",
       "      <th>ROE</th>\n",
       "      <td>0.121955</td>\n",
       "      <td>0.117717</td>\n",
       "      <td>0.17211</td>\n",
       "      <td>0.176034</td>\n",
       "      <td>0.183647</td>\n",
       "      <td>0.181464</td>\n",
       "    </tr>\n",
       "  </tbody>\n",
       "</table>\n",
       "</div>"
      ],
      "text/plain": [
       "     Year 2021  Year 2022  Year 2023  Year 2024  TTM 2025Q1  TTM 2025Q2\n",
       "ROE   0.121955   0.117717    0.17211   0.176034    0.183647    0.181464"
      ]
     },
     "execution_count": 117,
     "metadata": {},
     "output_type": "execute_result"
    }
   ],
   "source": [
    "def get_ratio_values_by_period(ticker, ratio, df):\n",
    "    \"\"\"\n",
    "    Get ratio values for a stock across annual and TTM periods.\n",
    "    \n",
    "    Args:\n",
    "        ticker: Stock ticker symbol (e.g., 'AAK')\n",
    "        ratio: Ratio/metric name (e.g., 'ROE', 'Total_Revenue')\n",
    "        df: DataFrame with stock evaluation results (index is ticker)\n",
    "    \n",
    "    Returns:\n",
    "        DataFrame with:\n",
    "        - One row: the ticker\n",
    "        - Columns: Last 4 annual values + Last 2 TTM values (6 columns total)\n",
    "        - Values: Ratio values for each period\n",
    "    \"\"\"\n",
    "    # Find all year columns for this ratio\n",
    "    year_cols = [col for col in df.columns if col.startswith(ratio + '_year_')]\n",
    "    year_cols = [col for col in year_cols if not pd.isna(df.loc[ticker, col])]\n",
    "    year_cols_sorted = sorted(year_cols, key=lambda x: int(x.split('_')[-1]), reverse=False)\n",
    "    year_cols_last4 = year_cols_sorted[-4:]\n",
    "    \n",
    "    # Find all quarter/TTM columns for this ratio\n",
    "    # Looking for columns with pattern like: {ratio}_quarter_2... or {ratio}_ttm_...\n",
    "    quarter_cols = [col for col in df.columns if '_quarter_' in col and ratio in col and '2' in col]\n",
    "    quarter_cols = [col for col in quarter_cols if not pd.isna(df.loc[ticker, col])]\n",
    "    \n",
    "    # Sort quarters chronologically\n",
    "    def quarter_sort_key(col):\n",
    "        last_part = col.split('_')[-1]  # e.g., \"2025Q1\"\n",
    "        if 'Q' in last_part:\n",
    "            try:\n",
    "                year_part = last_part.split('Q')[0]\n",
    "                quarter_part = last_part.split('Q')[1]\n",
    "                return int(year_part), int(quarter_part)\n",
    "            except (ValueError, IndexError):\n",
    "                return (0, 0)\n",
    "        return (0, 0)\n",
    "    \n",
    "    quarter_cols_sorted = sorted(quarter_cols, key=quarter_sort_key, reverse=False)\n",
    "    quarter_cols_last2 = quarter_cols_sorted[-2:]\n",
    "    \n",
    "    # Build the data dictionary\n",
    "    data = {}\n",
    "    \n",
    "    # Add the 4 annual values\n",
    "    for col in year_cols_last4:\n",
    "        year = col.split('_')[-1]\n",
    "        data[f\"Year {year}\"] = df.loc[ticker, col]\n",
    "    \n",
    "    # Add the 2 TTM values\n",
    "    for col in quarter_cols_last2:\n",
    "        quarter = col.split('_')[-1]  # e.g., \"2025Q1\"\n",
    "        data[f\"TTM {quarter}\"] = df.loc[ticker, col]\n",
    "    \n",
    "    # Convert to DataFrame with one row\n",
    "    result_df = pd.DataFrame([data])\n",
    "    result_df.index = [ratio]\n",
    "    \n",
    "    return result_df\n",
    "\n",
    "# Test the function\n",
    "test_values = get_ratio_values_by_period(selected_ticker, 'ROE', df_results)\n",
    "test_values"
   ]
  },
  {
   "cell_type": "code",
   "execution_count": 118,
   "id": "0e3fbb9a",
   "metadata": {},
   "outputs": [
    {
     "data": {
      "text/html": [
       "<div>\n",
       "<style scoped>\n",
       "    .dataframe tbody tr th:only-of-type {\n",
       "        vertical-align: middle;\n",
       "    }\n",
       "\n",
       "    .dataframe tbody tr th {\n",
       "        vertical-align: top;\n",
       "    }\n",
       "\n",
       "    .dataframe thead th {\n",
       "        text-align: right;\n",
       "    }\n",
       "</style>\n",
       "<table border=\"1\" class=\"dataframe\">\n",
       "  <thead>\n",
       "    <tr style=\"text-align: right;\">\n",
       "      <th></th>\n",
       "      <th>Year 2021</th>\n",
       "      <th>Year 2022</th>\n",
       "      <th>Year 2023</th>\n",
       "      <th>Year 2024</th>\n",
       "      <th>TTM 2025Q1</th>\n",
       "      <th>TTM 2025Q2</th>\n",
       "    </tr>\n",
       "  </thead>\n",
       "  <tbody>\n",
       "    <tr>\n",
       "      <th>Soliditet</th>\n",
       "      <td>0.433741</td>\n",
       "      <td>0.442365</td>\n",
       "      <td>0.560276</td>\n",
       "      <td>0.584162</td>\n",
       "      <td>0.566501</td>\n",
       "      <td>0.607268</td>\n",
       "    </tr>\n",
       "  </tbody>\n",
       "</table>\n",
       "</div>"
      ],
      "text/plain": [
       "           Year 2021  Year 2022  Year 2023  Year 2024  TTM 2025Q1  TTM 2025Q2\n",
       "Soliditet   0.433741   0.442365   0.560276   0.584162    0.566501    0.607268"
      ]
     },
     "execution_count": 118,
     "metadata": {},
     "output_type": "execute_result"
    }
   ],
   "source": [
    "get_ratio_values_by_period(selected_ticker, 'Soliditet', df_results)"
   ]
  },
  {
   "cell_type": "code",
   "execution_count": 190,
   "id": "56198634",
   "metadata": {},
   "outputs": [
    {
     "ename": "ValueError",
     "evalue": "Mime type rendering requires nbformat>=4.2.0 but it is not installed",
     "output_type": "error",
     "traceback": [
      "\u001b[31m---------------------------------------------------------------------------\u001b[39m",
      "\u001b[31mValueError\u001b[39m                                Traceback (most recent call last)",
      "\u001b[36mFile \u001b[39m\u001b[32m~/Indicatum/streamlit_stock_filter/.venv/lib/python3.11/site-packages/IPython/core/formatters.py:984\u001b[39m, in \u001b[36mIPythonDisplayFormatter.__call__\u001b[39m\u001b[34m(self, obj)\u001b[39m\n\u001b[32m    982\u001b[39m method = get_real_method(obj, \u001b[38;5;28mself\u001b[39m.print_method)\n\u001b[32m    983\u001b[39m \u001b[38;5;28;01mif\u001b[39;00m method \u001b[38;5;129;01mis\u001b[39;00m \u001b[38;5;129;01mnot\u001b[39;00m \u001b[38;5;28;01mNone\u001b[39;00m:\n\u001b[32m--> \u001b[39m\u001b[32m984\u001b[39m     \u001b[43mmethod\u001b[49m\u001b[43m(\u001b[49m\u001b[43m)\u001b[49m\n\u001b[32m    985\u001b[39m     \u001b[38;5;28;01mreturn\u001b[39;00m \u001b[38;5;28;01mTrue\u001b[39;00m\n",
      "\u001b[36mFile \u001b[39m\u001b[32m~/Indicatum/streamlit_stock_filter/.venv/lib/python3.11/site-packages/plotly/basedatatypes.py:850\u001b[39m, in \u001b[36mBaseFigure._ipython_display_\u001b[39m\u001b[34m(self)\u001b[39m\n\u001b[32m    847\u001b[39m \u001b[38;5;28;01mimport\u001b[39;00m\u001b[38;5;250m \u001b[39m\u001b[34;01mplotly\u001b[39;00m\u001b[34;01m.\u001b[39;00m\u001b[34;01mio\u001b[39;00m\u001b[38;5;250m \u001b[39m\u001b[38;5;28;01mas\u001b[39;00m\u001b[38;5;250m \u001b[39m\u001b[34;01mpio\u001b[39;00m\n\u001b[32m    849\u001b[39m \u001b[38;5;28;01mif\u001b[39;00m pio.renderers.render_on_display \u001b[38;5;129;01mand\u001b[39;00m pio.renderers.default:\n\u001b[32m--> \u001b[39m\u001b[32m850\u001b[39m     \u001b[43mpio\u001b[49m\u001b[43m.\u001b[49m\u001b[43mshow\u001b[49m\u001b[43m(\u001b[49m\u001b[38;5;28;43mself\u001b[39;49m\u001b[43m)\u001b[49m\n\u001b[32m    851\u001b[39m \u001b[38;5;28;01melse\u001b[39;00m:\n\u001b[32m    852\u001b[39m     \u001b[38;5;28mprint\u001b[39m(\u001b[38;5;28mrepr\u001b[39m(\u001b[38;5;28mself\u001b[39m))\n",
      "\u001b[36mFile \u001b[39m\u001b[32m~/Indicatum/streamlit_stock_filter/.venv/lib/python3.11/site-packages/plotly/io/_renderers.py:415\u001b[39m, in \u001b[36mshow\u001b[39m\u001b[34m(fig, renderer, validate, **kwargs)\u001b[39m\n\u001b[32m    410\u001b[39m     \u001b[38;5;28;01mraise\u001b[39;00m \u001b[38;5;167;01mValueError\u001b[39;00m(\n\u001b[32m    411\u001b[39m         \u001b[33m\"\u001b[39m\u001b[33mMime type rendering requires ipython but it is not installed\u001b[39m\u001b[33m\"\u001b[39m\n\u001b[32m    412\u001b[39m     )\n\u001b[32m    414\u001b[39m \u001b[38;5;28;01mif\u001b[39;00m \u001b[38;5;129;01mnot\u001b[39;00m nbformat \u001b[38;5;129;01mor\u001b[39;00m Version(nbformat.__version__) < Version(\u001b[33m\"\u001b[39m\u001b[33m4.2.0\u001b[39m\u001b[33m\"\u001b[39m):\n\u001b[32m--> \u001b[39m\u001b[32m415\u001b[39m     \u001b[38;5;28;01mraise\u001b[39;00m \u001b[38;5;167;01mValueError\u001b[39;00m(\n\u001b[32m    416\u001b[39m         \u001b[33m\"\u001b[39m\u001b[33mMime type rendering requires nbformat>=4.2.0 but it is not installed\u001b[39m\u001b[33m\"\u001b[39m\n\u001b[32m    417\u001b[39m     )\n\u001b[32m    419\u001b[39m display_jupyter_version_warnings()\n\u001b[32m    421\u001b[39m ipython_display.display(bundle, raw=\u001b[38;5;28;01mTrue\u001b[39;00m)\n",
      "\u001b[31mValueError\u001b[39m: Mime type rendering requires nbformat>=4.2.0 but it is not installed"
     ]
    },
    {
     "data": {
      "application/vnd.plotly.v1+json": {
       "config": {
        "plotlyServerURL": "https://plot.ly"
       },
       "data": [
        {
         "marker": {
          "color": [
           "royalblue",
           "royalblue",
           "royalblue",
           "royalblue",
           "gold",
           "gold"
          ],
          "pattern": {
           "shape": [
            "",
            "",
            "",
            "",
            "\\",
            ""
           ]
          }
         },
         "name": "PE_tal",
         "showlegend": false,
         "text": [
          "33.09",
          "25.04",
          "19.18",
          "22.84",
          "19.40",
          "20.21"
         ],
         "textfont": {
          "size": 18
         },
         "textposition": "auto",
         "type": "bar",
         "x": [
          "Year 2021",
          "Year 2022",
          "Year 2023",
          "Year 2024",
          "TTM 2025Q1",
          "TTM 2025Q2"
         ],
         "y": [
          "33.086",
          "25.041",
          "19.185",
          "22.843",
          "19.397",
          "20.212"
         ]
        },
        {
         "line": {
          "color": "#70AD47",
          "dash": "dash",
          "width": 6
         },
         "mode": "lines",
         "name": "Trend (4-year)",
         "showlegend": false,
         "type": "scatter",
         "x": [
          "Year 2021",
          "Year 2022",
          "Year 2023",
          "Year 2024"
         ],
         "y": [
          "30.526",
          "26.868",
          "23.209",
          "19.551"
         ]
        },
        {
         "line": {
          "color": "#C5504E",
          "dash": "dash",
          "width": 6
         },
         "mode": "lines",
         "name": "Trend (TTM)",
         "showlegend": false,
         "type": "scatter",
         "x": [
          "TTM 2025Q1",
          "TTM 2025Q2"
         ],
         "y": {
          "bdata": "uwRUk6tlM0BaXv2uRDY0QA==",
          "dtype": "f8"
         }
        }
       ],
       "layout": {
        "annotations": [
         {
          "font": {
           "color": "#C5504E",
           "size": 18
          },
          "showarrow": false,
          "text": "+0.81",
          "x": "TTM 2025Q2",
          "xshift": 5,
          "y": 20.21198552785641,
          "yshift": 20
         }
        ],
        "height": 400,
        "hovermode": "x unified",
        "margin": {
         "b": 10,
         "l": 10,
         "r": 10,
         "t": 40
        },
        "showlegend": false,
        "template": {
         "data": {
          "bar": [
           {
            "error_x": {
             "color": "#2a3f5f"
            },
            "error_y": {
             "color": "#2a3f5f"
            },
            "marker": {
             "line": {
              "color": "#E5ECF6",
              "width": 0.5
             },
             "pattern": {
              "fillmode": "overlay",
              "size": 10,
              "solidity": 0.2
             }
            },
            "type": "bar"
           }
          ],
          "barpolar": [
           {
            "marker": {
             "line": {
              "color": "#E5ECF6",
              "width": 0.5
             },
             "pattern": {
              "fillmode": "overlay",
              "size": 10,
              "solidity": 0.2
             }
            },
            "type": "barpolar"
           }
          ],
          "carpet": [
           {
            "aaxis": {
             "endlinecolor": "#2a3f5f",
             "gridcolor": "white",
             "linecolor": "white",
             "minorgridcolor": "white",
             "startlinecolor": "#2a3f5f"
            },
            "baxis": {
             "endlinecolor": "#2a3f5f",
             "gridcolor": "white",
             "linecolor": "white",
             "minorgridcolor": "white",
             "startlinecolor": "#2a3f5f"
            },
            "type": "carpet"
           }
          ],
          "choropleth": [
           {
            "colorbar": {
             "outlinewidth": 0,
             "ticks": ""
            },
            "type": "choropleth"
           }
          ],
          "contour": [
           {
            "colorbar": {
             "outlinewidth": 0,
             "ticks": ""
            },
            "colorscale": [
             [
              0,
              "#0d0887"
             ],
             [
              0.1111111111111111,
              "#46039f"
             ],
             [
              0.2222222222222222,
              "#7201a8"
             ],
             [
              0.3333333333333333,
              "#9c179e"
             ],
             [
              0.4444444444444444,
              "#bd3786"
             ],
             [
              0.5555555555555556,
              "#d8576b"
             ],
             [
              0.6666666666666666,
              "#ed7953"
             ],
             [
              0.7777777777777778,
              "#fb9f3a"
             ],
             [
              0.8888888888888888,
              "#fdca26"
             ],
             [
              1,
              "#f0f921"
             ]
            ],
            "type": "contour"
           }
          ],
          "contourcarpet": [
           {
            "colorbar": {
             "outlinewidth": 0,
             "ticks": ""
            },
            "type": "contourcarpet"
           }
          ],
          "heatmap": [
           {
            "colorbar": {
             "outlinewidth": 0,
             "ticks": ""
            },
            "colorscale": [
             [
              0,
              "#0d0887"
             ],
             [
              0.1111111111111111,
              "#46039f"
             ],
             [
              0.2222222222222222,
              "#7201a8"
             ],
             [
              0.3333333333333333,
              "#9c179e"
             ],
             [
              0.4444444444444444,
              "#bd3786"
             ],
             [
              0.5555555555555556,
              "#d8576b"
             ],
             [
              0.6666666666666666,
              "#ed7953"
             ],
             [
              0.7777777777777778,
              "#fb9f3a"
             ],
             [
              0.8888888888888888,
              "#fdca26"
             ],
             [
              1,
              "#f0f921"
             ]
            ],
            "type": "heatmap"
           }
          ],
          "histogram": [
           {
            "marker": {
             "pattern": {
              "fillmode": "overlay",
              "size": 10,
              "solidity": 0.2
             }
            },
            "type": "histogram"
           }
          ],
          "histogram2d": [
           {
            "colorbar": {
             "outlinewidth": 0,
             "ticks": ""
            },
            "colorscale": [
             [
              0,
              "#0d0887"
             ],
             [
              0.1111111111111111,
              "#46039f"
             ],
             [
              0.2222222222222222,
              "#7201a8"
             ],
             [
              0.3333333333333333,
              "#9c179e"
             ],
             [
              0.4444444444444444,
              "#bd3786"
             ],
             [
              0.5555555555555556,
              "#d8576b"
             ],
             [
              0.6666666666666666,
              "#ed7953"
             ],
             [
              0.7777777777777778,
              "#fb9f3a"
             ],
             [
              0.8888888888888888,
              "#fdca26"
             ],
             [
              1,
              "#f0f921"
             ]
            ],
            "type": "histogram2d"
           }
          ],
          "histogram2dcontour": [
           {
            "colorbar": {
             "outlinewidth": 0,
             "ticks": ""
            },
            "colorscale": [
             [
              0,
              "#0d0887"
             ],
             [
              0.1111111111111111,
              "#46039f"
             ],
             [
              0.2222222222222222,
              "#7201a8"
             ],
             [
              0.3333333333333333,
              "#9c179e"
             ],
             [
              0.4444444444444444,
              "#bd3786"
             ],
             [
              0.5555555555555556,
              "#d8576b"
             ],
             [
              0.6666666666666666,
              "#ed7953"
             ],
             [
              0.7777777777777778,
              "#fb9f3a"
             ],
             [
              0.8888888888888888,
              "#fdca26"
             ],
             [
              1,
              "#f0f921"
             ]
            ],
            "type": "histogram2dcontour"
           }
          ],
          "mesh3d": [
           {
            "colorbar": {
             "outlinewidth": 0,
             "ticks": ""
            },
            "type": "mesh3d"
           }
          ],
          "parcoords": [
           {
            "line": {
             "colorbar": {
              "outlinewidth": 0,
              "ticks": ""
             }
            },
            "type": "parcoords"
           }
          ],
          "pie": [
           {
            "automargin": true,
            "type": "pie"
           }
          ],
          "scatter": [
           {
            "fillpattern": {
             "fillmode": "overlay",
             "size": 10,
             "solidity": 0.2
            },
            "type": "scatter"
           }
          ],
          "scatter3d": [
           {
            "line": {
             "colorbar": {
              "outlinewidth": 0,
              "ticks": ""
             }
            },
            "marker": {
             "colorbar": {
              "outlinewidth": 0,
              "ticks": ""
             }
            },
            "type": "scatter3d"
           }
          ],
          "scattercarpet": [
           {
            "marker": {
             "colorbar": {
              "outlinewidth": 0,
              "ticks": ""
             }
            },
            "type": "scattercarpet"
           }
          ],
          "scattergeo": [
           {
            "marker": {
             "colorbar": {
              "outlinewidth": 0,
              "ticks": ""
             }
            },
            "type": "scattergeo"
           }
          ],
          "scattergl": [
           {
            "marker": {
             "colorbar": {
              "outlinewidth": 0,
              "ticks": ""
             }
            },
            "type": "scattergl"
           }
          ],
          "scattermap": [
           {
            "marker": {
             "colorbar": {
              "outlinewidth": 0,
              "ticks": ""
             }
            },
            "type": "scattermap"
           }
          ],
          "scattermapbox": [
           {
            "marker": {
             "colorbar": {
              "outlinewidth": 0,
              "ticks": ""
             }
            },
            "type": "scattermapbox"
           }
          ],
          "scatterpolar": [
           {
            "marker": {
             "colorbar": {
              "outlinewidth": 0,
              "ticks": ""
             }
            },
            "type": "scatterpolar"
           }
          ],
          "scatterpolargl": [
           {
            "marker": {
             "colorbar": {
              "outlinewidth": 0,
              "ticks": ""
             }
            },
            "type": "scatterpolargl"
           }
          ],
          "scatterternary": [
           {
            "marker": {
             "colorbar": {
              "outlinewidth": 0,
              "ticks": ""
             }
            },
            "type": "scatterternary"
           }
          ],
          "surface": [
           {
            "colorbar": {
             "outlinewidth": 0,
             "ticks": ""
            },
            "colorscale": [
             [
              0,
              "#0d0887"
             ],
             [
              0.1111111111111111,
              "#46039f"
             ],
             [
              0.2222222222222222,
              "#7201a8"
             ],
             [
              0.3333333333333333,
              "#9c179e"
             ],
             [
              0.4444444444444444,
              "#bd3786"
             ],
             [
              0.5555555555555556,
              "#d8576b"
             ],
             [
              0.6666666666666666,
              "#ed7953"
             ],
             [
              0.7777777777777778,
              "#fb9f3a"
             ],
             [
              0.8888888888888888,
              "#fdca26"
             ],
             [
              1,
              "#f0f921"
             ]
            ],
            "type": "surface"
           }
          ],
          "table": [
           {
            "cells": {
             "fill": {
              "color": "#EBF0F8"
             },
             "line": {
              "color": "white"
             }
            },
            "header": {
             "fill": {
              "color": "#C8D4E3"
             },
             "line": {
              "color": "white"
             }
            },
            "type": "table"
           }
          ]
         },
         "layout": {
          "annotationdefaults": {
           "arrowcolor": "#2a3f5f",
           "arrowhead": 0,
           "arrowwidth": 1
          },
          "autotypenumbers": "strict",
          "coloraxis": {
           "colorbar": {
            "outlinewidth": 0,
            "ticks": ""
           }
          },
          "colorscale": {
           "diverging": [
            [
             0,
             "#8e0152"
            ],
            [
             0.1,
             "#c51b7d"
            ],
            [
             0.2,
             "#de77ae"
            ],
            [
             0.3,
             "#f1b6da"
            ],
            [
             0.4,
             "#fde0ef"
            ],
            [
             0.5,
             "#f7f7f7"
            ],
            [
             0.6,
             "#e6f5d0"
            ],
            [
             0.7,
             "#b8e186"
            ],
            [
             0.8,
             "#7fbc41"
            ],
            [
             0.9,
             "#4d9221"
            ],
            [
             1,
             "#276419"
            ]
           ],
           "sequential": [
            [
             0,
             "#0d0887"
            ],
            [
             0.1111111111111111,
             "#46039f"
            ],
            [
             0.2222222222222222,
             "#7201a8"
            ],
            [
             0.3333333333333333,
             "#9c179e"
            ],
            [
             0.4444444444444444,
             "#bd3786"
            ],
            [
             0.5555555555555556,
             "#d8576b"
            ],
            [
             0.6666666666666666,
             "#ed7953"
            ],
            [
             0.7777777777777778,
             "#fb9f3a"
            ],
            [
             0.8888888888888888,
             "#fdca26"
            ],
            [
             1,
             "#f0f921"
            ]
           ],
           "sequentialminus": [
            [
             0,
             "#0d0887"
            ],
            [
             0.1111111111111111,
             "#46039f"
            ],
            [
             0.2222222222222222,
             "#7201a8"
            ],
            [
             0.3333333333333333,
             "#9c179e"
            ],
            [
             0.4444444444444444,
             "#bd3786"
            ],
            [
             0.5555555555555556,
             "#d8576b"
            ],
            [
             0.6666666666666666,
             "#ed7953"
            ],
            [
             0.7777777777777778,
             "#fb9f3a"
            ],
            [
             0.8888888888888888,
             "#fdca26"
            ],
            [
             1,
             "#f0f921"
            ]
           ]
          },
          "colorway": [
           "#636efa",
           "#EF553B",
           "#00cc96",
           "#ab63fa",
           "#FFA15A",
           "#19d3f3",
           "#FF6692",
           "#B6E880",
           "#FF97FF",
           "#FECB52"
          ],
          "font": {
           "color": "#2a3f5f"
          },
          "geo": {
           "bgcolor": "white",
           "lakecolor": "white",
           "landcolor": "#E5ECF6",
           "showlakes": true,
           "showland": true,
           "subunitcolor": "white"
          },
          "hoverlabel": {
           "align": "left"
          },
          "hovermode": "closest",
          "mapbox": {
           "style": "light"
          },
          "paper_bgcolor": "white",
          "plot_bgcolor": "#E5ECF6",
          "polar": {
           "angularaxis": {
            "gridcolor": "white",
            "linecolor": "white",
            "ticks": ""
           },
           "bgcolor": "#E5ECF6",
           "radialaxis": {
            "gridcolor": "white",
            "linecolor": "white",
            "ticks": ""
           }
          },
          "scene": {
           "xaxis": {
            "backgroundcolor": "#E5ECF6",
            "gridcolor": "white",
            "gridwidth": 2,
            "linecolor": "white",
            "showbackground": true,
            "ticks": "",
            "zerolinecolor": "white"
           },
           "yaxis": {
            "backgroundcolor": "#E5ECF6",
            "gridcolor": "white",
            "gridwidth": 2,
            "linecolor": "white",
            "showbackground": true,
            "ticks": "",
            "zerolinecolor": "white"
           },
           "zaxis": {
            "backgroundcolor": "#E5ECF6",
            "gridcolor": "white",
            "gridwidth": 2,
            "linecolor": "white",
            "showbackground": true,
            "ticks": "",
            "zerolinecolor": "white"
           }
          },
          "shapedefaults": {
           "line": {
            "color": "#2a3f5f"
           }
          },
          "ternary": {
           "aaxis": {
            "gridcolor": "white",
            "linecolor": "white",
            "ticks": ""
           },
           "baxis": {
            "gridcolor": "white",
            "linecolor": "white",
            "ticks": ""
           },
           "bgcolor": "#E5ECF6",
           "caxis": {
            "gridcolor": "white",
            "linecolor": "white",
            "ticks": ""
           }
          },
          "title": {
           "x": 0.05
          },
          "xaxis": {
           "automargin": true,
           "gridcolor": "white",
           "linecolor": "white",
           "ticks": "",
           "title": {
            "standoff": 15
           },
           "zerolinecolor": "white",
           "zerolinewidth": 2
          },
          "yaxis": {
           "automargin": true,
           "gridcolor": "white",
           "linecolor": "white",
           "ticks": "",
           "title": {
            "standoff": 15
           },
           "zerolinecolor": "white",
           "zerolinewidth": 2
          }
         }
        },
        "xaxis": {
         "fixedrange": true
        },
        "yaxis": {
         "fixedrange": true
        }
       }
      },
      "text/html": [
       "<div>                        <script type=\"text/javascript\">window.PlotlyConfig = {MathJaxConfig: 'local'};</script>\n",
       "        <script charset=\"utf-8\" src=\"https://cdn.plot.ly/plotly-3.1.0.min.js\" integrity=\"sha256-Ei4740bWZhaUTQuD6q9yQlgVCMPBz6CZWhevDYPv93A=\" crossorigin=\"anonymous\"></script>                <div id=\"7e9bfbd5-a072-4436-aa6c-93718ed9d577\" class=\"plotly-graph-div\" style=\"height:400px; width:100%;\"></div>            <script type=\"text/javascript\">                window.PLOTLYENV=window.PLOTLYENV || {};                                if (document.getElementById(\"7e9bfbd5-a072-4436-aa6c-93718ed9d577\")) {                    Plotly.newPlot(                        \"7e9bfbd5-a072-4436-aa6c-93718ed9d577\",                        [{\"marker\":{\"color\":[\"royalblue\",\"royalblue\",\"royalblue\",\"royalblue\",\"gold\",\"gold\"],\"pattern\":{\"shape\":[\"\",\"\",\"\",\"\",\"\\\\\",\"\"]}},\"name\":\"PE_tal\",\"showlegend\":false,\"text\":[\"33.09\",\"25.04\",\"19.18\",\"22.84\",\"19.40\",\"20.21\"],\"textfont\":{\"size\":18},\"textposition\":\"auto\",\"x\":[\"Year 2021\",\"Year 2022\",\"Year 2023\",\"Year 2024\",\"TTM 2025Q1\",\"TTM 2025Q2\"],\"y\":[\"33.086\",\"25.041\",\"19.185\",\"22.843\",\"19.397\",\"20.212\"],\"type\":\"bar\"},{\"line\":{\"color\":\"#70AD47\",\"dash\":\"dash\",\"width\":6},\"mode\":\"lines\",\"name\":\"Trend (4-year)\",\"showlegend\":false,\"x\":[\"Year 2021\",\"Year 2022\",\"Year 2023\",\"Year 2024\"],\"y\":[\"30.526\",\"26.868\",\"23.209\",\"19.551\"],\"type\":\"scatter\"},{\"line\":{\"color\":\"#C5504E\",\"dash\":\"dash\",\"width\":6},\"mode\":\"lines\",\"name\":\"Trend (TTM)\",\"showlegend\":false,\"x\":[\"TTM 2025Q1\",\"TTM 2025Q2\"],\"y\":{\"dtype\":\"f8\",\"bdata\":\"uwRUk6tlM0BaXv2uRDY0QA==\"},\"type\":\"scatter\"}],                        {\"template\":{\"data\":{\"histogram2dcontour\":[{\"type\":\"histogram2dcontour\",\"colorbar\":{\"outlinewidth\":0,\"ticks\":\"\"},\"colorscale\":[[0.0,\"#0d0887\"],[0.1111111111111111,\"#46039f\"],[0.2222222222222222,\"#7201a8\"],[0.3333333333333333,\"#9c179e\"],[0.4444444444444444,\"#bd3786\"],[0.5555555555555556,\"#d8576b\"],[0.6666666666666666,\"#ed7953\"],[0.7777777777777778,\"#fb9f3a\"],[0.8888888888888888,\"#fdca26\"],[1.0,\"#f0f921\"]]}],\"choropleth\":[{\"type\":\"choropleth\",\"colorbar\":{\"outlinewidth\":0,\"ticks\":\"\"}}],\"histogram2d\":[{\"type\":\"histogram2d\",\"colorbar\":{\"outlinewidth\":0,\"ticks\":\"\"},\"colorscale\":[[0.0,\"#0d0887\"],[0.1111111111111111,\"#46039f\"],[0.2222222222222222,\"#7201a8\"],[0.3333333333333333,\"#9c179e\"],[0.4444444444444444,\"#bd3786\"],[0.5555555555555556,\"#d8576b\"],[0.6666666666666666,\"#ed7953\"],[0.7777777777777778,\"#fb9f3a\"],[0.8888888888888888,\"#fdca26\"],[1.0,\"#f0f921\"]]}],\"heatmap\":[{\"type\":\"heatmap\",\"colorbar\":{\"outlinewidth\":0,\"ticks\":\"\"},\"colorscale\":[[0.0,\"#0d0887\"],[0.1111111111111111,\"#46039f\"],[0.2222222222222222,\"#7201a8\"],[0.3333333333333333,\"#9c179e\"],[0.4444444444444444,\"#bd3786\"],[0.5555555555555556,\"#d8576b\"],[0.6666666666666666,\"#ed7953\"],[0.7777777777777778,\"#fb9f3a\"],[0.8888888888888888,\"#fdca26\"],[1.0,\"#f0f921\"]]}],\"contourcarpet\":[{\"type\":\"contourcarpet\",\"colorbar\":{\"outlinewidth\":0,\"ticks\":\"\"}}],\"contour\":[{\"type\":\"contour\",\"colorbar\":{\"outlinewidth\":0,\"ticks\":\"\"},\"colorscale\":[[0.0,\"#0d0887\"],[0.1111111111111111,\"#46039f\"],[0.2222222222222222,\"#7201a8\"],[0.3333333333333333,\"#9c179e\"],[0.4444444444444444,\"#bd3786\"],[0.5555555555555556,\"#d8576b\"],[0.6666666666666666,\"#ed7953\"],[0.7777777777777778,\"#fb9f3a\"],[0.8888888888888888,\"#fdca26\"],[1.0,\"#f0f921\"]]}],\"surface\":[{\"type\":\"surface\",\"colorbar\":{\"outlinewidth\":0,\"ticks\":\"\"},\"colorscale\":[[0.0,\"#0d0887\"],[0.1111111111111111,\"#46039f\"],[0.2222222222222222,\"#7201a8\"],[0.3333333333333333,\"#9c179e\"],[0.4444444444444444,\"#bd3786\"],[0.5555555555555556,\"#d8576b\"],[0.6666666666666666,\"#ed7953\"],[0.7777777777777778,\"#fb9f3a\"],[0.8888888888888888,\"#fdca26\"],[1.0,\"#f0f921\"]]}],\"mesh3d\":[{\"type\":\"mesh3d\",\"colorbar\":{\"outlinewidth\":0,\"ticks\":\"\"}}],\"scatter\":[{\"fillpattern\":{\"fillmode\":\"overlay\",\"size\":10,\"solidity\":0.2},\"type\":\"scatter\"}],\"parcoords\":[{\"type\":\"parcoords\",\"line\":{\"colorbar\":{\"outlinewidth\":0,\"ticks\":\"\"}}}],\"scatterpolargl\":[{\"type\":\"scatterpolargl\",\"marker\":{\"colorbar\":{\"outlinewidth\":0,\"ticks\":\"\"}}}],\"bar\":[{\"error_x\":{\"color\":\"#2a3f5f\"},\"error_y\":{\"color\":\"#2a3f5f\"},\"marker\":{\"line\":{\"color\":\"#E5ECF6\",\"width\":0.5},\"pattern\":{\"fillmode\":\"overlay\",\"size\":10,\"solidity\":0.2}},\"type\":\"bar\"}],\"scattergeo\":[{\"type\":\"scattergeo\",\"marker\":{\"colorbar\":{\"outlinewidth\":0,\"ticks\":\"\"}}}],\"scatterpolar\":[{\"type\":\"scatterpolar\",\"marker\":{\"colorbar\":{\"outlinewidth\":0,\"ticks\":\"\"}}}],\"histogram\":[{\"marker\":{\"pattern\":{\"fillmode\":\"overlay\",\"size\":10,\"solidity\":0.2}},\"type\":\"histogram\"}],\"scattergl\":[{\"type\":\"scattergl\",\"marker\":{\"colorbar\":{\"outlinewidth\":0,\"ticks\":\"\"}}}],\"scatter3d\":[{\"type\":\"scatter3d\",\"line\":{\"colorbar\":{\"outlinewidth\":0,\"ticks\":\"\"}},\"marker\":{\"colorbar\":{\"outlinewidth\":0,\"ticks\":\"\"}}}],\"scattermap\":[{\"type\":\"scattermap\",\"marker\":{\"colorbar\":{\"outlinewidth\":0,\"ticks\":\"\"}}}],\"scattermapbox\":[{\"type\":\"scattermapbox\",\"marker\":{\"colorbar\":{\"outlinewidth\":0,\"ticks\":\"\"}}}],\"scatterternary\":[{\"type\":\"scatterternary\",\"marker\":{\"colorbar\":{\"outlinewidth\":0,\"ticks\":\"\"}}}],\"scattercarpet\":[{\"type\":\"scattercarpet\",\"marker\":{\"colorbar\":{\"outlinewidth\":0,\"ticks\":\"\"}}}],\"carpet\":[{\"aaxis\":{\"endlinecolor\":\"#2a3f5f\",\"gridcolor\":\"white\",\"linecolor\":\"white\",\"minorgridcolor\":\"white\",\"startlinecolor\":\"#2a3f5f\"},\"baxis\":{\"endlinecolor\":\"#2a3f5f\",\"gridcolor\":\"white\",\"linecolor\":\"white\",\"minorgridcolor\":\"white\",\"startlinecolor\":\"#2a3f5f\"},\"type\":\"carpet\"}],\"table\":[{\"cells\":{\"fill\":{\"color\":\"#EBF0F8\"},\"line\":{\"color\":\"white\"}},\"header\":{\"fill\":{\"color\":\"#C8D4E3\"},\"line\":{\"color\":\"white\"}},\"type\":\"table\"}],\"barpolar\":[{\"marker\":{\"line\":{\"color\":\"#E5ECF6\",\"width\":0.5},\"pattern\":{\"fillmode\":\"overlay\",\"size\":10,\"solidity\":0.2}},\"type\":\"barpolar\"}],\"pie\":[{\"automargin\":true,\"type\":\"pie\"}]},\"layout\":{\"autotypenumbers\":\"strict\",\"colorway\":[\"#636efa\",\"#EF553B\",\"#00cc96\",\"#ab63fa\",\"#FFA15A\",\"#19d3f3\",\"#FF6692\",\"#B6E880\",\"#FF97FF\",\"#FECB52\"],\"font\":{\"color\":\"#2a3f5f\"},\"hovermode\":\"closest\",\"hoverlabel\":{\"align\":\"left\"},\"paper_bgcolor\":\"white\",\"plot_bgcolor\":\"#E5ECF6\",\"polar\":{\"bgcolor\":\"#E5ECF6\",\"angularaxis\":{\"gridcolor\":\"white\",\"linecolor\":\"white\",\"ticks\":\"\"},\"radialaxis\":{\"gridcolor\":\"white\",\"linecolor\":\"white\",\"ticks\":\"\"}},\"ternary\":{\"bgcolor\":\"#E5ECF6\",\"aaxis\":{\"gridcolor\":\"white\",\"linecolor\":\"white\",\"ticks\":\"\"},\"baxis\":{\"gridcolor\":\"white\",\"linecolor\":\"white\",\"ticks\":\"\"},\"caxis\":{\"gridcolor\":\"white\",\"linecolor\":\"white\",\"ticks\":\"\"}},\"coloraxis\":{\"colorbar\":{\"outlinewidth\":0,\"ticks\":\"\"}},\"colorscale\":{\"sequential\":[[0.0,\"#0d0887\"],[0.1111111111111111,\"#46039f\"],[0.2222222222222222,\"#7201a8\"],[0.3333333333333333,\"#9c179e\"],[0.4444444444444444,\"#bd3786\"],[0.5555555555555556,\"#d8576b\"],[0.6666666666666666,\"#ed7953\"],[0.7777777777777778,\"#fb9f3a\"],[0.8888888888888888,\"#fdca26\"],[1.0,\"#f0f921\"]],\"sequentialminus\":[[0.0,\"#0d0887\"],[0.1111111111111111,\"#46039f\"],[0.2222222222222222,\"#7201a8\"],[0.3333333333333333,\"#9c179e\"],[0.4444444444444444,\"#bd3786\"],[0.5555555555555556,\"#d8576b\"],[0.6666666666666666,\"#ed7953\"],[0.7777777777777778,\"#fb9f3a\"],[0.8888888888888888,\"#fdca26\"],[1.0,\"#f0f921\"]],\"diverging\":[[0,\"#8e0152\"],[0.1,\"#c51b7d\"],[0.2,\"#de77ae\"],[0.3,\"#f1b6da\"],[0.4,\"#fde0ef\"],[0.5,\"#f7f7f7\"],[0.6,\"#e6f5d0\"],[0.7,\"#b8e186\"],[0.8,\"#7fbc41\"],[0.9,\"#4d9221\"],[1,\"#276419\"]]},\"xaxis\":{\"gridcolor\":\"white\",\"linecolor\":\"white\",\"ticks\":\"\",\"title\":{\"standoff\":15},\"zerolinecolor\":\"white\",\"automargin\":true,\"zerolinewidth\":2},\"yaxis\":{\"gridcolor\":\"white\",\"linecolor\":\"white\",\"ticks\":\"\",\"title\":{\"standoff\":15},\"zerolinecolor\":\"white\",\"automargin\":true,\"zerolinewidth\":2},\"scene\":{\"xaxis\":{\"backgroundcolor\":\"#E5ECF6\",\"gridcolor\":\"white\",\"linecolor\":\"white\",\"showbackground\":true,\"ticks\":\"\",\"zerolinecolor\":\"white\",\"gridwidth\":2},\"yaxis\":{\"backgroundcolor\":\"#E5ECF6\",\"gridcolor\":\"white\",\"linecolor\":\"white\",\"showbackground\":true,\"ticks\":\"\",\"zerolinecolor\":\"white\",\"gridwidth\":2},\"zaxis\":{\"backgroundcolor\":\"#E5ECF6\",\"gridcolor\":\"white\",\"linecolor\":\"white\",\"showbackground\":true,\"ticks\":\"\",\"zerolinecolor\":\"white\",\"gridwidth\":2}},\"shapedefaults\":{\"line\":{\"color\":\"#2a3f5f\"}},\"annotationdefaults\":{\"arrowcolor\":\"#2a3f5f\",\"arrowhead\":0,\"arrowwidth\":1},\"geo\":{\"bgcolor\":\"white\",\"landcolor\":\"#E5ECF6\",\"subunitcolor\":\"white\",\"showland\":true,\"showlakes\":true,\"lakecolor\":\"white\"},\"title\":{\"x\":0.05},\"mapbox\":{\"style\":\"light\"}}},\"annotations\":[{\"font\":{\"color\":\"#C5504E\",\"size\":18},\"showarrow\":false,\"text\":\"+0.81\",\"x\":\"TTM 2025Q2\",\"xshift\":5,\"y\":20.21198552785641,\"yshift\":20}],\"margin\":{\"l\":10,\"r\":10,\"t\":40,\"b\":10},\"xaxis\":{\"fixedrange\":true},\"yaxis\":{\"fixedrange\":true},\"height\":400,\"hovermode\":\"x unified\",\"showlegend\":false},                        {\"responsive\": true}                    )                };            </script>        </div>"
      ],
      "text/plain": [
       "Figure({\n",
       "    'data': [{'marker': {'color': [royalblue, royalblue, royalblue, royalblue,\n",
       "                                   gold, gold],\n",
       "                         'pattern': {'shape': ['', '', '', '', '\\\\', '']}},\n",
       "              'name': 'PE_tal',\n",
       "              'showlegend': False,\n",
       "              'text': [33.09, 25.04, 19.18, 22.84, 19.40, 20.21],\n",
       "              'textfont': {'size': 18},\n",
       "              'textposition': 'auto',\n",
       "              'type': 'bar',\n",
       "              'x': [Year 2021, Year 2022, Year 2023, Year 2024, TTM 2025Q1, TTM\n",
       "                    2025Q2],\n",
       "              'y': [33.086, 25.041, 19.185, 22.843, 19.397, 20.212]},\n",
       "             {'line': {'color': '#70AD47', 'dash': 'dash', 'width': 6},\n",
       "              'mode': 'lines',\n",
       "              'name': 'Trend (4-year)',\n",
       "              'showlegend': False,\n",
       "              'type': 'scatter',\n",
       "              'x': [Year 2021, Year 2022, Year 2023, Year 2024],\n",
       "              'y': [30.526, 26.868, 23.209, 19.551]},\n",
       "             {'line': {'color': '#C5504E', 'dash': 'dash', 'width': 6},\n",
       "              'mode': 'lines',\n",
       "              'name': 'Trend (TTM)',\n",
       "              'showlegend': False,\n",
       "              'type': 'scatter',\n",
       "              'x': [TTM 2025Q1, TTM 2025Q2],\n",
       "              'y': {'bdata': 'uwRUk6tlM0BaXv2uRDY0QA==', 'dtype': 'f8'}}],\n",
       "    'layout': {'annotations': [{'font': {'color': '#C5504E', 'size': 18},\n",
       "                                'showarrow': False,\n",
       "                                'text': '+0.81',\n",
       "                                'x': 'TTM 2025Q2',\n",
       "                                'xshift': 5,\n",
       "                                'y': np.float64(20.21198552785641),\n",
       "                                'yshift': 20}],\n",
       "               'height': 400,\n",
       "               'hovermode': 'x unified',\n",
       "               'margin': {'b': 10, 'l': 10, 'r': 10, 't': 40},\n",
       "               'showlegend': False,\n",
       "               'template': '...',\n",
       "               'xaxis': {'fixedrange': True},\n",
       "               'yaxis': {'fixedrange': True}}\n",
       "})"
      ]
     },
     "execution_count": 190,
     "metadata": {},
     "output_type": "execute_result"
    }
   ],
   "source": [
    "import plotly.graph_objects as go\n",
    "import numpy as np\n",
    "\n",
    "def plot_ratio_values(df,mappings):\n",
    "    \"\"\"\n",
    "    Create a bar plot from ratio values dataframe.\n",
    "\n",
    "    Args:\n",
    "        df: pandas.DataFrame with 1 row and 6 columns (result from get_ratio_values_by_period).\n",
    "            First 4 columns: annual values (royalblue).\n",
    "            Last 2 columns: TTM values (gold).\n",
    "        mappings: ConfigMappings instance (object providing ratio metadata and period mappings).\n",
    "\n",
    "    Returns:\n",
    "        plotly.graph_objects.Figure: Bar plot visualizing ratio values and trends.\n",
    "\n",
    "    Error Handling:\n",
    "        - If `df` contains missing or non-numeric values, bars will display 'nan' and trend lines may be omitted.\n",
    "        - If `mappings.is_higher_better(ratio_name)` returns None, defaults to True.\n",
    "        - Function assumes correct DataFrame shape; malformed input may result in plotting errors.\n",
    "    \"\"\"\n",
    "    # Get the values and column names\n",
    "    values = df.iloc[0].values.astype(float)\n",
    "    columns = df.columns.tolist()\n",
    "    ratio_name = df.index[0]\n",
    "\n",
    "    # get higher_is_better info from mappings (default to True if None)\n",
    "    hib = mappings.is_higher_better(ratio_name)\n",
    "    higher_is_better = hib if hib is not None else True\n",
    "\n",
    "    # Create colors: first 4 blue, last 2 gold\n",
    "    colors = ['royalblue'] * 4 + ['gold'] * 2\n",
    "    #colors = ['#D3D3D3'] * 4 + ['#4A90E2'] * 2\n",
    "    trend_color_improving = '#70AD47'\n",
    "    trend_color_deterioating = '#C5504E'\n",
    "    trend_line_width = 6\n",
    "    font_size = 18\n",
    "\n",
    "    # Create patterns: 5th bar has '/' pattern\n",
    "    patterns = [''] * 4 + ['\\\\'] + ['']\n",
    "    \n",
    "    # Create bar plot\n",
    "    fig = go.Figure(data=[\n",
    "        go.Bar(\n",
    "            x=columns,\n",
    "            y=[f\"{v:.3f}\" for v in values],#values,\n",
    "            marker_color=colors,\n",
    "            marker_pattern_shape=patterns,\n",
    "            text=[f\"{v:.2f}\" for v in values],\n",
    "            textposition='auto',\n",
    "            textfont=dict(size=font_size),\n",
    "            showlegend=False,\n",
    "            name=ratio_name\n",
    "        )\n",
    "    ])\n",
    "    \n",
    "    # Add linear regression line for first 4 bars\n",
    "    x_indices_1 = np.array([0, 1, 2, 3])\n",
    "    y_values_1 = values[:4]\n",
    "    coeffs_1 = np.polyfit(x_indices_1, y_values_1, 1)\n",
    "    y_fit_1 = np.polyval(coeffs_1, x_indices_1)\n",
    "\n",
    "    annual_diff =  values[3] - values[0]\n",
    "    if (annual_diff > 0 and higher_is_better) or (annual_diff < 0 and not higher_is_better):\n",
    "        annual_trend_color = trend_color_improving\n",
    "    else:\n",
    "        annual_trend_color = trend_color_deterioating\n",
    "    \n",
    "    fig.add_trace(go.Scatter(\n",
    "        x=columns[:4],\n",
    "        y=[f\"{v:.3f}\" for v in y_fit_1],#y_fit_1,\n",
    "        mode='lines',\n",
    "        name='Trend (4-year)',\n",
    "        line=dict(color=annual_trend_color, width=trend_line_width, dash='dash'),\n",
    "        showlegend=False\n",
    "    ))\n",
    "\n",
    "    # Add linear regression line for last 2 bars\n",
    "    ttm_diff = values[5] - values[4]\n",
    "\n",
    "    if (ttm_diff > 0 and higher_is_better) or (ttm_diff < 0 and not higher_is_better):\n",
    "        ttm_trend_color = trend_color_improving\n",
    "    else:\n",
    "        ttm_trend_color = trend_color_deterioating\n",
    "\n",
    "    x_indices_2 = np.array([0, 1])\n",
    "    y_values_2 = values[4:6]\n",
    "    coeffs_2 = np.polyfit(x_indices_2, y_values_2, 1)\n",
    "    y_fit_2 = np.polyval(coeffs_2, x_indices_2)\n",
    "    \n",
    "    fig.add_trace(go.Scatter(\n",
    "        x=columns[4:6],\n",
    "        y=y_fit_2,\n",
    "        mode='lines',\n",
    "        name='Trend (TTM)',\n",
    "        line=dict(color=ttm_trend_color, width=trend_line_width, dash='dash'),\n",
    "        showlegend=False\n",
    "    ))\n",
    "\n",
    "    # Add annotation with the difference\n",
    "    fig.add_annotation(\n",
    "        x=columns[5],\n",
    "        y=values[5],\n",
    "        text=f\"{ttm_diff:+.2g}\",\n",
    "        font=dict(size=font_size, color=ttm_trend_color),\n",
    "        yshift=20,\n",
    "        xshift=5,\n",
    "        showarrow=False\n",
    "    )\n",
    "    \n",
    "    # Add 'Data missing' annotations for each NaN value\n",
    "    for i, v in enumerate(values):\n",
    "        if pd.isna(v):\n",
    "            fig.add_annotation(\n",
    "                x=columns[i],\n",
    "                y=0,\n",
    "                text=\"Data missing\",\n",
    "                showarrow=False,\n",
    "                font=dict(color=\"#b30000\", size=13),\n",
    "                bgcolor=\"#ffe5e5\",\n",
    "                bordercolor=\"#ffcccc\",\n",
    "                borderwidth=1,\n",
    "                yshift=20\n",
    "            )\n",
    "    \n",
    "    # Update layout\n",
    "    fig.update_layout(\n",
    "        height=400,\n",
    "        margin=dict(l=10, r=10, t=40, b=10),\n",
    "        hovermode='x unified',\n",
    "        showlegend=False,\n",
    "        xaxis=dict(fixedrange=True),\n",
    "        yaxis=dict(fixedrange=True)\n",
    "    )\n",
    "    \n",
    "    return fig\n",
    "\n",
    "# Test the function\n",
    "test_df = get_ratio_values_by_period(selected_ticker, 'PE_tal', df_results)\n",
    "fig = plot_ratio_values(test_df,mappings=m)\n",
    "fig"
   ]
  },
  {
   "cell_type": "code",
   "execution_count": 154,
   "id": "48110cec",
   "metadata": {},
   "outputs": [
    {
     "name": "stdout",
     "output_type": "stream",
     "text": [
      "True\n"
     ]
    }
   ],
   "source": [
    "ratio_name = 'PB_tal'\n",
    "higher_is_better = m.is_higher_better(ratio_name) or True\n",
    "print(higher_is_better)"
   ]
  },
  {
   "cell_type": "code",
   "execution_count": 155,
   "id": "53a3fd32",
   "metadata": {},
   "outputs": [
    {
     "data": {
      "text/plain": [
       "False"
      ]
     },
     "execution_count": 155,
     "metadata": {},
     "output_type": "execute_result"
    }
   ],
   "source": [
    "m.is_higher_better(ratio_name)"
   ]
  },
  {
   "cell_type": "code",
   "execution_count": null,
   "id": "9ee14d31",
   "metadata": {},
   "outputs": [],
   "source": []
  }
 ],
 "metadata": {
  "kernelspec": {
   "display_name": "streamlit-stock-filter",
   "language": "python",
   "name": "python3"
  },
  "language_info": {
   "codemirror_mode": {
    "name": "ipython",
    "version": 3
   },
   "file_extension": ".py",
   "mimetype": "text/x-python",
   "name": "python",
   "nbconvert_exporter": "python",
   "pygments_lexer": "ipython3",
   "version": "3.11.11"
  }
 },
 "nbformat": 4,
 "nbformat_minor": 5
}
